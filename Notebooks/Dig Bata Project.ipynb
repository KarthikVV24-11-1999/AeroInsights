{
 "cells": [
  {
   "cell_type": "code",
   "execution_count": 1,
   "id": "dd1178bc-e5ba-4c12-8246-3a66975723de",
   "metadata": {},
   "outputs": [],
   "source": [
    "# pip install pyspark"
   ]
  },
  {
   "cell_type": "code",
   "execution_count": 2,
   "id": "d453a129-9d8b-48a2-be10-ea55a5139b68",
   "metadata": {},
   "outputs": [],
   "source": [
    "# pip install findspark"
   ]
  },
  {
   "cell_type": "code",
   "execution_count": 1,
   "id": "0d92a0d1-8dcd-4ca6-a4d2-eea4796a399e",
   "metadata": {},
   "outputs": [],
   "source": [
    "import findspark\n",
    "findspark.init()\n",
    "\n",
    "from pyspark.sql import SparkSession"
   ]
  },
  {
   "cell_type": "code",
   "execution_count": 2,
   "id": "5d9ad40e-86d2-4083-a70f-8f60f2b1dad3",
   "metadata": {},
   "outputs": [
    {
     "name": "stderr",
     "output_type": "stream",
     "text": [
      "Setting default log level to \"WARN\".\n",
      "To adjust logging level use sc.setLogLevel(newLevel). For SparkR, use setLogLevel(newLevel).\n",
      "24/05/09 16:04:04 WARN NativeCodeLoader: Unable to load native-hadoop library for your platform... using builtin-java classes where applicable\n",
      "24/05/09 16:04:21 WARN GarbageCollectionMetrics: To enable non-built-in garbage collector(s) List(G1 Concurrent GC), users should configure it(them) to spark.eventLog.gcMetrics.youngGenerationGarbageCollectors or spark.eventLog.gcMetrics.oldGenerationGarbageCollectors\n",
      "                                                                                \r"
     ]
    }
   ],
   "source": [
    "from pyspark.sql import SparkSession\n",
    "\n",
    "# Initialize SparkSession\n",
    "spark = SparkSession.builder \\\n",
    "    .appName(\"Read CSV\") \\\n",
    "    .config(\"spark.executor.memory\", \"18g\") \\\n",
    "    .config(\"spark.driver.memory\", \"150g\") \\\n",
    "    .getOrCreate()\n",
    "\n",
    "# Read CSV into DataFrame\n",
    "prices = spark.read.csv(\"itineraries.csv\", header=True, inferSchema=True)"
   ]
  },
  {
   "cell_type": "code",
   "execution_count": 12,
   "id": "f119d277-603c-48f7-b0e4-0c42747dca17",
   "metadata": {},
   "outputs": [
    {
     "name": "stderr",
     "output_type": "stream",
     "text": [
      "                                                                                \r"
     ]
    }
   ],
   "source": [
    "delays = spark.read.csv(\"delays/raw/Flights_2018_1.csv\", header=True, inferSchema=True)"
   ]
  },
  {
   "cell_type": "code",
   "execution_count": 3,
   "id": "06c96086-a31e-48bc-a591-01b8a836d51f",
   "metadata": {},
   "outputs": [
    {
     "ename": "NameError",
     "evalue": "name 'delays' is not defined",
     "output_type": "error",
     "traceback": [
      "\u001b[0;31m---------------------------------------------------------------------------\u001b[0m",
      "\u001b[0;31mNameError\u001b[0m                                 Traceback (most recent call last)",
      "Cell \u001b[0;32mIn[3], line 1\u001b[0m\n\u001b[0;32m----> 1\u001b[0m delays\u001b[38;5;241m.\u001b[39mcolumns\n",
      "\u001b[0;31mNameError\u001b[0m: name 'delays' is not defined"
     ]
    }
   ],
   "source": [
    "delays.columns"
   ]
  },
  {
   "cell_type": "code",
   "execution_count": 59,
   "id": "ebf2652a-e01f-4bb7-8436-2589f4f2a519",
   "metadata": {},
   "outputs": [
    {
     "name": "stderr",
     "output_type": "stream",
     "text": [
      "[Stage 92:>                                                         (0 + 8) / 8]\r"
     ]
    },
    {
     "name": "stdout",
     "output_type": "stream",
     "text": [
      "+-----------+--------+------------------+\n",
      "|DivArrDelay|ArrDelay|Operating_Airline |\n",
      "+-----------+--------+------------------+\n",
      "|      144.0|    NULL|                OO|\n",
      "|      137.0|    NULL|                EV|\n",
      "|      237.0|    NULL|                OO|\n",
      "|      118.0|    NULL|                EV|\n",
      "|       89.0|    NULL|                OO|\n",
      "|      195.0|    NULL|                OO|\n",
      "|      278.0|    NULL|                B6|\n",
      "|      569.0|    NULL|                HA|\n",
      "|      135.0|    NULL|                B6|\n",
      "|      167.0|    NULL|                B6|\n",
      "|      154.0|    NULL|                OO|\n",
      "|      262.0|    NULL|                OO|\n",
      "|      943.0|    NULL|                9E|\n",
      "|      421.0|    NULL|                OO|\n",
      "|      123.0|    NULL|                OO|\n",
      "|      197.0|    NULL|                G4|\n",
      "|       88.0|    NULL|                B6|\n",
      "|      137.0|    NULL|                OO|\n",
      "|      383.0|    NULL|                9E|\n",
      "|      229.0|    NULL|                OO|\n",
      "|      945.0|    NULL|                OO|\n",
      "|      140.0|    NULL|                OO|\n",
      "|      422.0|    NULL|                HA|\n",
      "|      291.0|    NULL|                OO|\n",
      "|      336.0|    NULL|                F9|\n",
      "|      981.0|    NULL|                OO|\n",
      "|      250.0|    NULL|                NK|\n",
      "|      204.0|    NULL|                NK|\n",
      "|      177.0|    NULL|                OO|\n",
      "|       94.0|    NULL|                HA|\n",
      "|      735.0|    NULL|                9E|\n",
      "|      146.0|    NULL|                OO|\n",
      "|      134.0|    NULL|                9E|\n",
      "|      172.0|    NULL|                OO|\n",
      "|      314.0|    NULL|                OO|\n",
      "|      255.0|    NULL|                OO|\n",
      "|      773.0|    NULL|                OO|\n",
      "|      199.0|    NULL|                OO|\n",
      "|     2524.0|    NULL|                HA|\n",
      "|      355.0|    NULL|                WN|\n",
      "|       58.0|    NULL|                B6|\n",
      "|      973.0|    NULL|                OO|\n",
      "|      158.0|    NULL|                HA|\n",
      "|      166.0|    NULL|                NK|\n",
      "|      629.0|    NULL|                OO|\n",
      "|      206.0|    NULL|                OO|\n",
      "|      149.0|    NULL|                EV|\n",
      "|     1244.0|    NULL|                9E|\n",
      "|      168.0|    NULL|                B6|\n",
      "|      142.0|    NULL|                OO|\n",
      "|      250.0|    NULL|                B6|\n",
      "|      122.0|    NULL|                OO|\n",
      "|      202.0|    NULL|                OO|\n",
      "|      120.0|    NULL|                G4|\n",
      "|      758.0|    NULL|                OO|\n",
      "|      128.0|    NULL|                B6|\n",
      "|      164.0|    NULL|                NK|\n",
      "|      121.0|    NULL|                OO|\n",
      "|      125.0|    NULL|                OO|\n",
      "|      458.0|    NULL|                OO|\n",
      "|       79.0|    NULL|                B6|\n",
      "|      184.0|    NULL|                G4|\n",
      "|      193.0|    NULL|                B6|\n",
      "|      252.0|    NULL|                NK|\n",
      "|      192.0|    NULL|                G4|\n",
      "|      208.0|    NULL|                OO|\n",
      "|      109.0|    NULL|                OO|\n",
      "|      138.0|    NULL|                OO|\n",
      "|       97.0|    NULL|                OO|\n",
      "|      380.0|    NULL|                G4|\n",
      "|      632.0|    NULL|                OO|\n",
      "|      562.0|    NULL|                OO|\n",
      "|      166.0|    NULL|                OO|\n",
      "|      277.0|    NULL|                OO|\n",
      "|       97.0|    NULL|                NK|\n",
      "|      132.0|    NULL|                EV|\n",
      "|      209.0|    NULL|                OO|\n",
      "|      217.0|    NULL|                HA|\n",
      "|      129.0|    NULL|                OO|\n",
      "|      189.0|    NULL|                EV|\n",
      "|      230.0|    NULL|                OO|\n",
      "|      280.0|    NULL|                B6|\n",
      "|      200.0|    NULL|                B6|\n",
      "|      198.0|    NULL|                OO|\n",
      "|      151.0|    NULL|                OO|\n",
      "|     1098.0|    NULL|                OO|\n",
      "|      135.0|    NULL|                G4|\n",
      "|      961.0|    NULL|                EV|\n",
      "|      644.0|    NULL|                OO|\n",
      "|      248.0|    NULL|                HA|\n",
      "|      179.0|    NULL|                OO|\n",
      "|      451.0|    NULL|                9E|\n",
      "|      233.0|    NULL|                B6|\n",
      "|      444.0|    NULL|                OO|\n",
      "|      650.0|    NULL|                OO|\n",
      "|      846.0|    NULL|                OO|\n",
      "|      285.0|    NULL|                EV|\n",
      "|      230.0|    NULL|                HA|\n",
      "|      240.0|    NULL|                OO|\n",
      "|      106.0|    NULL|                OO|\n",
      "+-----------+--------+------------------+\n",
      "only showing top 100 rows\n",
      "\n"
     ]
    },
    {
     "name": "stderr",
     "output_type": "stream",
     "text": [
      "                                                                                \r"
     ]
    }
   ],
   "source": [
    "from pyspark.sql.functions import col\n",
    "\n",
    "a = delays.filter(delays.DivArrDelay > 0)\n",
    "a.select(col(\"DivArrDelay\"), col(\"ArrDelay\"), col(\"Operating_Airline \")).distinct().show(100)"
   ]
  },
  {
   "cell_type": "code",
   "execution_count": 4,
   "id": "0b514f86-6a33-4d73-bc4f-a3fc6d6a4ec4",
   "metadata": {},
   "outputs": [
    {
     "name": "stderr",
     "output_type": "stream",
     "text": [
      "[Stage 4:========================================================>(76 + 1) / 77]\r"
     ]
    },
    {
     "name": "stdout",
     "output_type": "stream",
     "text": [
      "+----+\n",
      "|year|\n",
      "+----+\n",
      "|2018|\n",
      "|2019|\n",
      "|2020|\n",
      "|2021|\n",
      "|2022|\n",
      "+----+\n",
      "\n"
     ]
    },
    {
     "name": "stderr",
     "output_type": "stream",
     "text": [
      "                                                                                \r"
     ]
    }
   ],
   "source": [
    "from pyspark.sql.functions import year\n",
    "\n",
    "# Extract year from fightDate column and get distinct years\n",
    "unique_years = delays.select(year(\"FlightDate\").alias(\"year\")).distinct()\n",
    "\n",
    "# Show unique years\n",
    "unique_years.show()\n"
   ]
  },
  {
   "cell_type": "code",
   "execution_count": 4,
   "id": "b2942879-0625-416a-a8ab-a58bb7b6b435",
   "metadata": {},
   "outputs": [],
   "source": [
    "# prices.limit(5).toPandas().head()"
   ]
  },
  {
   "cell_type": "markdown",
   "id": "041bdb7b-7a8d-4f31-ae8f-82aa9d02001c",
   "metadata": {},
   "source": [
    "- If the record for a particular flight is not present for a date -> Our assumption is that the flight did not run during those dates"
   ]
  },
  {
   "cell_type": "code",
   "execution_count": 5,
   "id": "7aa18c86-aeb6-4888-9b29-8a77accbc695",
   "metadata": {},
   "outputs": [
    {
     "name": "stderr",
     "output_type": "stream",
     "text": [
      "24/04/27 13:39:36 WARN SparkStringUtils: Truncated the string representation of a plan since it was too large. This behavior can be adjusted by setting 'spark.sql.debug.maxToStringFields'.\n"
     ]
    },
    {
     "data": {
      "text/html": [
       "<div>\n",
       "<style scoped>\n",
       "    .dataframe tbody tr th:only-of-type {\n",
       "        vertical-align: middle;\n",
       "    }\n",
       "\n",
       "    .dataframe tbody tr th {\n",
       "        vertical-align: top;\n",
       "    }\n",
       "\n",
       "    .dataframe thead th {\n",
       "        text-align: right;\n",
       "    }\n",
       "</style>\n",
       "<table border=\"1\" class=\"dataframe\">\n",
       "  <thead>\n",
       "    <tr style=\"text-align: right;\">\n",
       "      <th></th>\n",
       "      <th>FlightDate</th>\n",
       "      <th>Airline</th>\n",
       "      <th>Origin</th>\n",
       "      <th>Dest</th>\n",
       "      <th>Cancelled</th>\n",
       "      <th>Diverted</th>\n",
       "      <th>CRSDepTime</th>\n",
       "      <th>DepTime</th>\n",
       "      <th>DepDelayMinutes</th>\n",
       "      <th>DepDelay</th>\n",
       "      <th>...</th>\n",
       "      <th>WheelsOff</th>\n",
       "      <th>WheelsOn</th>\n",
       "      <th>TaxiIn</th>\n",
       "      <th>CRSArrTime</th>\n",
       "      <th>ArrDelay</th>\n",
       "      <th>ArrDel15</th>\n",
       "      <th>ArrivalDelayGroups</th>\n",
       "      <th>ArrTimeBlk</th>\n",
       "      <th>DistanceGroup</th>\n",
       "      <th>DivAirportLandings</th>\n",
       "    </tr>\n",
       "  </thead>\n",
       "  <tbody>\n",
       "    <tr>\n",
       "      <th>0</th>\n",
       "      <td>2018-01-23</td>\n",
       "      <td>Endeavor Air Inc.</td>\n",
       "      <td>ABY</td>\n",
       "      <td>ATL</td>\n",
       "      <td>False</td>\n",
       "      <td>False</td>\n",
       "      <td>1202</td>\n",
       "      <td>1157.0</td>\n",
       "      <td>0.0</td>\n",
       "      <td>-5.0</td>\n",
       "      <td>...</td>\n",
       "      <td>1211.0</td>\n",
       "      <td>1249.0</td>\n",
       "      <td>7.0</td>\n",
       "      <td>1304</td>\n",
       "      <td>-8.0</td>\n",
       "      <td>0.0</td>\n",
       "      <td>-1.0</td>\n",
       "      <td>1300-1359</td>\n",
       "      <td>1</td>\n",
       "      <td>0.0</td>\n",
       "    </tr>\n",
       "    <tr>\n",
       "      <th>1</th>\n",
       "      <td>2018-01-24</td>\n",
       "      <td>Endeavor Air Inc.</td>\n",
       "      <td>ABY</td>\n",
       "      <td>ATL</td>\n",
       "      <td>False</td>\n",
       "      <td>False</td>\n",
       "      <td>1202</td>\n",
       "      <td>1157.0</td>\n",
       "      <td>0.0</td>\n",
       "      <td>-5.0</td>\n",
       "      <td>...</td>\n",
       "      <td>1210.0</td>\n",
       "      <td>1246.0</td>\n",
       "      <td>12.0</td>\n",
       "      <td>1304</td>\n",
       "      <td>-6.0</td>\n",
       "      <td>0.0</td>\n",
       "      <td>-1.0</td>\n",
       "      <td>1300-1359</td>\n",
       "      <td>1</td>\n",
       "      <td>0.0</td>\n",
       "    </tr>\n",
       "    <tr>\n",
       "      <th>2</th>\n",
       "      <td>2018-01-25</td>\n",
       "      <td>Endeavor Air Inc.</td>\n",
       "      <td>ABY</td>\n",
       "      <td>ATL</td>\n",
       "      <td>False</td>\n",
       "      <td>False</td>\n",
       "      <td>1202</td>\n",
       "      <td>1153.0</td>\n",
       "      <td>0.0</td>\n",
       "      <td>-9.0</td>\n",
       "      <td>...</td>\n",
       "      <td>1211.0</td>\n",
       "      <td>1251.0</td>\n",
       "      <td>11.0</td>\n",
       "      <td>1304</td>\n",
       "      <td>-2.0</td>\n",
       "      <td>0.0</td>\n",
       "      <td>-1.0</td>\n",
       "      <td>1300-1359</td>\n",
       "      <td>1</td>\n",
       "      <td>0.0</td>\n",
       "    </tr>\n",
       "    <tr>\n",
       "      <th>3</th>\n",
       "      <td>2018-01-26</td>\n",
       "      <td>Endeavor Air Inc.</td>\n",
       "      <td>ABY</td>\n",
       "      <td>ATL</td>\n",
       "      <td>False</td>\n",
       "      <td>False</td>\n",
       "      <td>1202</td>\n",
       "      <td>1150.0</td>\n",
       "      <td>0.0</td>\n",
       "      <td>-12.0</td>\n",
       "      <td>...</td>\n",
       "      <td>1207.0</td>\n",
       "      <td>1242.0</td>\n",
       "      <td>11.0</td>\n",
       "      <td>1304</td>\n",
       "      <td>-11.0</td>\n",
       "      <td>0.0</td>\n",
       "      <td>-1.0</td>\n",
       "      <td>1300-1359</td>\n",
       "      <td>1</td>\n",
       "      <td>0.0</td>\n",
       "    </tr>\n",
       "    <tr>\n",
       "      <th>4</th>\n",
       "      <td>2018-01-27</td>\n",
       "      <td>Endeavor Air Inc.</td>\n",
       "      <td>ABY</td>\n",
       "      <td>ATL</td>\n",
       "      <td>False</td>\n",
       "      <td>False</td>\n",
       "      <td>1400</td>\n",
       "      <td>1355.0</td>\n",
       "      <td>0.0</td>\n",
       "      <td>-5.0</td>\n",
       "      <td>...</td>\n",
       "      <td>1412.0</td>\n",
       "      <td>1448.0</td>\n",
       "      <td>11.0</td>\n",
       "      <td>1500</td>\n",
       "      <td>-1.0</td>\n",
       "      <td>0.0</td>\n",
       "      <td>-1.0</td>\n",
       "      <td>1500-1559</td>\n",
       "      <td>1</td>\n",
       "      <td>0.0</td>\n",
       "    </tr>\n",
       "  </tbody>\n",
       "</table>\n",
       "<p>5 rows × 61 columns</p>\n",
       "</div>"
      ],
      "text/plain": [
       "   FlightDate            Airline Origin Dest  Cancelled  Diverted  CRSDepTime  \\\n",
       "0  2018-01-23  Endeavor Air Inc.    ABY  ATL      False     False        1202   \n",
       "1  2018-01-24  Endeavor Air Inc.    ABY  ATL      False     False        1202   \n",
       "2  2018-01-25  Endeavor Air Inc.    ABY  ATL      False     False        1202   \n",
       "3  2018-01-26  Endeavor Air Inc.    ABY  ATL      False     False        1202   \n",
       "4  2018-01-27  Endeavor Air Inc.    ABY  ATL      False     False        1400   \n",
       "\n",
       "   DepTime  DepDelayMinutes  DepDelay  ...  WheelsOff  WheelsOn  TaxiIn  \\\n",
       "0   1157.0              0.0      -5.0  ...     1211.0    1249.0     7.0   \n",
       "1   1157.0              0.0      -5.0  ...     1210.0    1246.0    12.0   \n",
       "2   1153.0              0.0      -9.0  ...     1211.0    1251.0    11.0   \n",
       "3   1150.0              0.0     -12.0  ...     1207.0    1242.0    11.0   \n",
       "4   1355.0              0.0      -5.0  ...     1412.0    1448.0    11.0   \n",
       "\n",
       "   CRSArrTime  ArrDelay  ArrDel15  ArrivalDelayGroups  ArrTimeBlk  \\\n",
       "0        1304      -8.0       0.0                -1.0   1300-1359   \n",
       "1        1304      -6.0       0.0                -1.0   1300-1359   \n",
       "2        1304      -2.0       0.0                -1.0   1300-1359   \n",
       "3        1304     -11.0       0.0                -1.0   1300-1359   \n",
       "4        1500      -1.0       0.0                -1.0   1500-1559   \n",
       "\n",
       "   DistanceGroup  DivAirportLandings  \n",
       "0              1                 0.0  \n",
       "1              1                 0.0  \n",
       "2              1                 0.0  \n",
       "3              1                 0.0  \n",
       "4              1                 0.0  \n",
       "\n",
       "[5 rows x 61 columns]"
      ]
     },
     "execution_count": 5,
     "metadata": {},
     "output_type": "execute_result"
    }
   ],
   "source": [
    "delays.limit(5).toPandas().head()"
   ]
  },
  {
   "cell_type": "code",
   "execution_count": 6,
   "id": "d3887269-fd8e-49b8-8809-ec8f9c530b11",
   "metadata": {},
   "outputs": [
    {
     "name": "stderr",
     "output_type": "stream",
     "text": [
      "[Stage 11:======================================================> (75 + 2) / 77]\r"
     ]
    },
    {
     "name": "stdout",
     "output_type": "stream",
     "text": [
      "Flights that started earlier than scheduled: 17871985\n",
      "Flights that started later than scheduled: 9184614\n",
      "Flights that started as per schedule: 1374099\n"
     ]
    },
    {
     "name": "stderr",
     "output_type": "stream",
     "text": [
      "                                                                                \r"
     ]
    }
   ],
   "source": [
    "from pyspark.sql.functions import col\n",
    "\n",
    "negative_delay_count = delays.filter(col('DepDelay') < 0).count()\n",
    "positive_delay_count = delays.filter(col('DepDelay') > 0).count()\n",
    "no_delay_count = delays.filter(col('DepDelay') == 0).count()\n",
    "\n",
    "\n",
    "print(f\"Flights that started earlier than scheduled: {negative_delay_count}\")\n",
    "print(f\"Flights that started later than scheduled: {positive_delay_count}\")\n",
    "print(f\"Flights that started as per schedule: {no_delay_count}\")\n"
   ]
  },
  {
   "cell_type": "markdown",
   "id": "22084072-5479-4222-aa30-2968d120f8f8",
   "metadata": {},
   "source": [
    "<h4> We are only concerned with the flights that are departure delayed.So the flights which have departed earlier or on time -> Makes no difference to us </h4>"
   ]
  },
  {
   "cell_type": "code",
   "execution_count": 7,
   "id": "1c413be4-f165-468e-bd28-567cc990faf6",
   "metadata": {},
   "outputs": [
    {
     "name": "stdout",
     "output_type": "stream",
     "text": [
      "+----------+\n",
      "|FlightDate|\n",
      "+----------+\n",
      "|2018-01-23|\n",
      "|2018-01-24|\n",
      "|2018-01-25|\n",
      "|2018-01-26|\n",
      "|2018-01-27|\n",
      "+----------+\n",
      "\n"
     ]
    }
   ],
   "source": [
    "delays.select(\"FlightDate\").limit(5).show()"
   ]
  },
  {
   "cell_type": "code",
   "execution_count": 8,
   "id": "43612f79-0836-4e32-8f05-0a358037e139",
   "metadata": {},
   "outputs": [
    {
     "data": {
      "text/plain": [
       "['FlightDate',\n",
       " 'Airline',\n",
       " 'Origin',\n",
       " 'Dest',\n",
       " 'Cancelled',\n",
       " 'Diverted',\n",
       " 'CRSDepTime',\n",
       " 'DepTime',\n",
       " 'DepDelayMinutes',\n",
       " 'DepDelay',\n",
       " 'ArrTime',\n",
       " 'ArrDelayMinutes',\n",
       " 'AirTime',\n",
       " 'CRSElapsedTime',\n",
       " 'ActualElapsedTime',\n",
       " 'Distance',\n",
       " 'Year',\n",
       " 'Quarter',\n",
       " 'Month',\n",
       " 'DayofMonth',\n",
       " 'DayOfWeek',\n",
       " 'Marketing_Airline_Network',\n",
       " 'Operated_or_Branded_Code_Share_Partners',\n",
       " 'DOT_ID_Marketing_Airline',\n",
       " 'IATA_Code_Marketing_Airline',\n",
       " 'Flight_Number_Marketing_Airline',\n",
       " 'Operating_Airline',\n",
       " 'DOT_ID_Operating_Airline',\n",
       " 'IATA_Code_Operating_Airline',\n",
       " 'Tail_Number',\n",
       " 'Flight_Number_Operating_Airline',\n",
       " 'OriginAirportID',\n",
       " 'OriginAirportSeqID',\n",
       " 'OriginCityMarketID',\n",
       " 'OriginCityName',\n",
       " 'OriginState',\n",
       " 'OriginStateFips',\n",
       " 'OriginStateName',\n",
       " 'OriginWac',\n",
       " 'DestAirportID',\n",
       " 'DestAirportSeqID',\n",
       " 'DestCityMarketID',\n",
       " 'DestCityName',\n",
       " 'DestState',\n",
       " 'DestStateFips',\n",
       " 'DestStateName',\n",
       " 'DestWac',\n",
       " 'DepDel15',\n",
       " 'DepartureDelayGroups',\n",
       " 'DepTimeBlk',\n",
       " 'TaxiOut',\n",
       " 'WheelsOff',\n",
       " 'WheelsOn',\n",
       " 'TaxiIn',\n",
       " 'CRSArrTime',\n",
       " 'ArrDelay',\n",
       " 'ArrDel15',\n",
       " 'ArrivalDelayGroups',\n",
       " 'ArrTimeBlk',\n",
       " 'DistanceGroup',\n",
       " 'DivAirportLandings']"
      ]
     },
     "execution_count": 8,
     "metadata": {},
     "output_type": "execute_result"
    }
   ],
   "source": [
    "delays.columns"
   ]
  },
  {
   "cell_type": "code",
   "execution_count": 10,
   "id": "57613044-c8df-4bb7-a24c-4cf7b933af1a",
   "metadata": {},
   "outputs": [],
   "source": [
    "from pyspark.sql.functions import when\n",
    "\n",
    "non_negative_delays = delays.withColumn('DepDelay', when(col('DepDelay') < 0, 0).otherwise(col('DepDelay')))"
   ]
  },
  {
   "cell_type": "code",
   "execution_count": 11,
   "id": "1f587287-b163-4e8f-b040-b848c14f46a8",
   "metadata": {},
   "outputs": [
    {
     "name": "stderr",
     "output_type": "stream",
     "text": [
      "[Stage 18:======================================================> (75 + 2) / 77]\r"
     ]
    },
    {
     "name": "stdout",
     "output_type": "stream",
     "text": [
      "Flights that weren't delayed: 19246084\n",
      "Flights that were delayed: 9184614\n"
     ]
    },
    {
     "name": "stderr",
     "output_type": "stream",
     "text": [
      "                                                                                \r"
     ]
    }
   ],
   "source": [
    "zero_delay_count = non_negative_delays.filter(col('DepDelay') == 0).count()\n",
    "\n",
    "print(f\"Flights that weren't delayed: {zero_delay_count}\")\n",
    "print(f\"Flights that were delayed: {positive_delay_count}\")"
   ]
  },
  {
   "cell_type": "code",
   "execution_count": 12,
   "id": "4d4a17c7-f3e8-4ebb-86eb-ec5bca1b5753",
   "metadata": {},
   "outputs": [
    {
     "name": "stderr",
     "output_type": "stream",
     "text": [
      "[Stage 21:======================================================> (75 + 2) / 77]\r"
     ]
    },
    {
     "name": "stdout",
     "output_type": "stream",
     "text": [
      "+----+\n",
      "|week|\n",
      "+----+\n",
      "|   1|\n",
      "|   3|\n",
      "|   5|\n",
      "|   4|\n",
      "|   2|\n",
      "|  44|\n",
      "|  40|\n",
      "|  41|\n",
      "|  43|\n",
      "|  42|\n",
      "|  47|\n",
      "|  48|\n",
      "|  45|\n",
      "|  46|\n",
      "|  52|\n",
      "|  49|\n",
      "|  51|\n",
      "|  50|\n",
      "|   6|\n",
      "|   9|\n",
      "+----+\n",
      "only showing top 20 rows\n",
      "\n"
     ]
    },
    {
     "name": "stderr",
     "output_type": "stream",
     "text": [
      "                                                                                \r"
     ]
    }
   ],
   "source": [
    "from pyspark.sql.functions import weekofyear, to_date\n",
    "\n",
    "# Extract year from fightDate column and get distinct years\n",
    "unique_weeks = non_negative_delays.select(weekofyear(\"FlightDate\").alias(\"week\")).distinct()\n",
    "\n",
    "# Show unique years\n",
    "unique_weeks.show()\n",
    "\n",
    "# from pyspark.sql.functions import date_format, date_add\n",
    "# week_number = df.select(date_format(\"fightDate\", \"w\").alias(\"week_number\"))\n"
   ]
  },
  {
   "cell_type": "code",
   "execution_count": 13,
   "id": "405018ca-84c4-4cf6-8864-0e63f86e88a7",
   "metadata": {},
   "outputs": [],
   "source": [
    "non_negative_delays = non_negative_delays.withColumn(\"FlightYear\", year(\"FlightDate\"))"
   ]
  },
  {
   "cell_type": "code",
   "execution_count": 14,
   "id": "1e4a18b2-f02a-4a57-9fc8-5ec3a2f9fbc0",
   "metadata": {},
   "outputs": [],
   "source": [
    "non_negative_delays = non_negative_delays.withColumn(\"FlightWeek\", weekofyear(\"FlightDate\"))"
   ]
  },
  {
   "cell_type": "code",
   "execution_count": 15,
   "id": "a23a7b99-2c3c-40ea-8ae9-770149e64867",
   "metadata": {},
   "outputs": [
    {
     "data": {
      "text/html": [
       "<div>\n",
       "<style scoped>\n",
       "    .dataframe tbody tr th:only-of-type {\n",
       "        vertical-align: middle;\n",
       "    }\n",
       "\n",
       "    .dataframe tbody tr th {\n",
       "        vertical-align: top;\n",
       "    }\n",
       "\n",
       "    .dataframe thead th {\n",
       "        text-align: right;\n",
       "    }\n",
       "</style>\n",
       "<table border=\"1\" class=\"dataframe\">\n",
       "  <thead>\n",
       "    <tr style=\"text-align: right;\">\n",
       "      <th></th>\n",
       "      <th>FlightDate</th>\n",
       "      <th>Airline</th>\n",
       "      <th>Origin</th>\n",
       "      <th>Dest</th>\n",
       "      <th>Cancelled</th>\n",
       "      <th>Diverted</th>\n",
       "      <th>CRSDepTime</th>\n",
       "      <th>DepTime</th>\n",
       "      <th>DepDelayMinutes</th>\n",
       "      <th>DepDelay</th>\n",
       "      <th>...</th>\n",
       "      <th>TaxiIn</th>\n",
       "      <th>CRSArrTime</th>\n",
       "      <th>ArrDelay</th>\n",
       "      <th>ArrDel15</th>\n",
       "      <th>ArrivalDelayGroups</th>\n",
       "      <th>ArrTimeBlk</th>\n",
       "      <th>DistanceGroup</th>\n",
       "      <th>DivAirportLandings</th>\n",
       "      <th>FlightYear</th>\n",
       "      <th>FlightWeek</th>\n",
       "    </tr>\n",
       "  </thead>\n",
       "  <tbody>\n",
       "    <tr>\n",
       "      <th>0</th>\n",
       "      <td>2018-01-23</td>\n",
       "      <td>Endeavor Air Inc.</td>\n",
       "      <td>ABY</td>\n",
       "      <td>ATL</td>\n",
       "      <td>False</td>\n",
       "      <td>False</td>\n",
       "      <td>1202</td>\n",
       "      <td>1157.0</td>\n",
       "      <td>0.0</td>\n",
       "      <td>0.0</td>\n",
       "      <td>...</td>\n",
       "      <td>7.0</td>\n",
       "      <td>1304</td>\n",
       "      <td>-8.0</td>\n",
       "      <td>0.0</td>\n",
       "      <td>-1.0</td>\n",
       "      <td>1300-1359</td>\n",
       "      <td>1</td>\n",
       "      <td>0.0</td>\n",
       "      <td>2018</td>\n",
       "      <td>4</td>\n",
       "    </tr>\n",
       "    <tr>\n",
       "      <th>1</th>\n",
       "      <td>2018-01-24</td>\n",
       "      <td>Endeavor Air Inc.</td>\n",
       "      <td>ABY</td>\n",
       "      <td>ATL</td>\n",
       "      <td>False</td>\n",
       "      <td>False</td>\n",
       "      <td>1202</td>\n",
       "      <td>1157.0</td>\n",
       "      <td>0.0</td>\n",
       "      <td>0.0</td>\n",
       "      <td>...</td>\n",
       "      <td>12.0</td>\n",
       "      <td>1304</td>\n",
       "      <td>-6.0</td>\n",
       "      <td>0.0</td>\n",
       "      <td>-1.0</td>\n",
       "      <td>1300-1359</td>\n",
       "      <td>1</td>\n",
       "      <td>0.0</td>\n",
       "      <td>2018</td>\n",
       "      <td>4</td>\n",
       "    </tr>\n",
       "    <tr>\n",
       "      <th>2</th>\n",
       "      <td>2018-01-25</td>\n",
       "      <td>Endeavor Air Inc.</td>\n",
       "      <td>ABY</td>\n",
       "      <td>ATL</td>\n",
       "      <td>False</td>\n",
       "      <td>False</td>\n",
       "      <td>1202</td>\n",
       "      <td>1153.0</td>\n",
       "      <td>0.0</td>\n",
       "      <td>0.0</td>\n",
       "      <td>...</td>\n",
       "      <td>11.0</td>\n",
       "      <td>1304</td>\n",
       "      <td>-2.0</td>\n",
       "      <td>0.0</td>\n",
       "      <td>-1.0</td>\n",
       "      <td>1300-1359</td>\n",
       "      <td>1</td>\n",
       "      <td>0.0</td>\n",
       "      <td>2018</td>\n",
       "      <td>4</td>\n",
       "    </tr>\n",
       "    <tr>\n",
       "      <th>3</th>\n",
       "      <td>2018-01-26</td>\n",
       "      <td>Endeavor Air Inc.</td>\n",
       "      <td>ABY</td>\n",
       "      <td>ATL</td>\n",
       "      <td>False</td>\n",
       "      <td>False</td>\n",
       "      <td>1202</td>\n",
       "      <td>1150.0</td>\n",
       "      <td>0.0</td>\n",
       "      <td>0.0</td>\n",
       "      <td>...</td>\n",
       "      <td>11.0</td>\n",
       "      <td>1304</td>\n",
       "      <td>-11.0</td>\n",
       "      <td>0.0</td>\n",
       "      <td>-1.0</td>\n",
       "      <td>1300-1359</td>\n",
       "      <td>1</td>\n",
       "      <td>0.0</td>\n",
       "      <td>2018</td>\n",
       "      <td>4</td>\n",
       "    </tr>\n",
       "    <tr>\n",
       "      <th>4</th>\n",
       "      <td>2018-01-27</td>\n",
       "      <td>Endeavor Air Inc.</td>\n",
       "      <td>ABY</td>\n",
       "      <td>ATL</td>\n",
       "      <td>False</td>\n",
       "      <td>False</td>\n",
       "      <td>1400</td>\n",
       "      <td>1355.0</td>\n",
       "      <td>0.0</td>\n",
       "      <td>0.0</td>\n",
       "      <td>...</td>\n",
       "      <td>11.0</td>\n",
       "      <td>1500</td>\n",
       "      <td>-1.0</td>\n",
       "      <td>0.0</td>\n",
       "      <td>-1.0</td>\n",
       "      <td>1500-1559</td>\n",
       "      <td>1</td>\n",
       "      <td>0.0</td>\n",
       "      <td>2018</td>\n",
       "      <td>4</td>\n",
       "    </tr>\n",
       "    <tr>\n",
       "      <th>5</th>\n",
       "      <td>2018-01-28</td>\n",
       "      <td>Endeavor Air Inc.</td>\n",
       "      <td>ABY</td>\n",
       "      <td>ATL</td>\n",
       "      <td>False</td>\n",
       "      <td>False</td>\n",
       "      <td>1202</td>\n",
       "      <td>1202.0</td>\n",
       "      <td>NaN</td>\n",
       "      <td>NaN</td>\n",
       "      <td>...</td>\n",
       "      <td>13.0</td>\n",
       "      <td>1304</td>\n",
       "      <td>22.0</td>\n",
       "      <td>1.0</td>\n",
       "      <td>1.0</td>\n",
       "      <td>1300-1359</td>\n",
       "      <td>1</td>\n",
       "      <td>0.0</td>\n",
       "      <td>2018</td>\n",
       "      <td>4</td>\n",
       "    </tr>\n",
       "    <tr>\n",
       "      <th>6</th>\n",
       "      <td>2018-01-29</td>\n",
       "      <td>Endeavor Air Inc.</td>\n",
       "      <td>ABY</td>\n",
       "      <td>ATL</td>\n",
       "      <td>False</td>\n",
       "      <td>False</td>\n",
       "      <td>1202</td>\n",
       "      <td>1204.0</td>\n",
       "      <td>2.0</td>\n",
       "      <td>2.0</td>\n",
       "      <td>...</td>\n",
       "      <td>10.0</td>\n",
       "      <td>1304</td>\n",
       "      <td>-1.0</td>\n",
       "      <td>0.0</td>\n",
       "      <td>-1.0</td>\n",
       "      <td>1300-1359</td>\n",
       "      <td>1</td>\n",
       "      <td>0.0</td>\n",
       "      <td>2018</td>\n",
       "      <td>5</td>\n",
       "    </tr>\n",
       "    <tr>\n",
       "      <th>7</th>\n",
       "      <td>2018-01-30</td>\n",
       "      <td>Endeavor Air Inc.</td>\n",
       "      <td>ABY</td>\n",
       "      <td>ATL</td>\n",
       "      <td>False</td>\n",
       "      <td>False</td>\n",
       "      <td>1202</td>\n",
       "      <td>1153.0</td>\n",
       "      <td>0.0</td>\n",
       "      <td>0.0</td>\n",
       "      <td>...</td>\n",
       "      <td>11.0</td>\n",
       "      <td>1304</td>\n",
       "      <td>-9.0</td>\n",
       "      <td>0.0</td>\n",
       "      <td>-1.0</td>\n",
       "      <td>1300-1359</td>\n",
       "      <td>1</td>\n",
       "      <td>0.0</td>\n",
       "      <td>2018</td>\n",
       "      <td>5</td>\n",
       "    </tr>\n",
       "    <tr>\n",
       "      <th>8</th>\n",
       "      <td>2018-01-31</td>\n",
       "      <td>Endeavor Air Inc.</td>\n",
       "      <td>ABY</td>\n",
       "      <td>ATL</td>\n",
       "      <td>False</td>\n",
       "      <td>False</td>\n",
       "      <td>1202</td>\n",
       "      <td>1153.0</td>\n",
       "      <td>0.0</td>\n",
       "      <td>0.0</td>\n",
       "      <td>...</td>\n",
       "      <td>8.0</td>\n",
       "      <td>1304</td>\n",
       "      <td>NaN</td>\n",
       "      <td>NaN</td>\n",
       "      <td>NaN</td>\n",
       "      <td>1300-1359</td>\n",
       "      <td>1</td>\n",
       "      <td>0.0</td>\n",
       "      <td>2018</td>\n",
       "      <td>5</td>\n",
       "    </tr>\n",
       "    <tr>\n",
       "      <th>9</th>\n",
       "      <td>2018-01-03</td>\n",
       "      <td>Endeavor Air Inc.</td>\n",
       "      <td>ATL</td>\n",
       "      <td>ABY</td>\n",
       "      <td>False</td>\n",
       "      <td>False</td>\n",
       "      <td>1037</td>\n",
       "      <td>1101.0</td>\n",
       "      <td>24.0</td>\n",
       "      <td>24.0</td>\n",
       "      <td>...</td>\n",
       "      <td>3.0</td>\n",
       "      <td>1137</td>\n",
       "      <td>22.0</td>\n",
       "      <td>1.0</td>\n",
       "      <td>1.0</td>\n",
       "      <td>1100-1159</td>\n",
       "      <td>1</td>\n",
       "      <td>0.0</td>\n",
       "      <td>2018</td>\n",
       "      <td>1</td>\n",
       "    </tr>\n",
       "  </tbody>\n",
       "</table>\n",
       "<p>10 rows × 63 columns</p>\n",
       "</div>"
      ],
      "text/plain": [
       "   FlightDate            Airline Origin Dest  Cancelled  Diverted  CRSDepTime  \\\n",
       "0  2018-01-23  Endeavor Air Inc.    ABY  ATL      False     False        1202   \n",
       "1  2018-01-24  Endeavor Air Inc.    ABY  ATL      False     False        1202   \n",
       "2  2018-01-25  Endeavor Air Inc.    ABY  ATL      False     False        1202   \n",
       "3  2018-01-26  Endeavor Air Inc.    ABY  ATL      False     False        1202   \n",
       "4  2018-01-27  Endeavor Air Inc.    ABY  ATL      False     False        1400   \n",
       "5  2018-01-28  Endeavor Air Inc.    ABY  ATL      False     False        1202   \n",
       "6  2018-01-29  Endeavor Air Inc.    ABY  ATL      False     False        1202   \n",
       "7  2018-01-30  Endeavor Air Inc.    ABY  ATL      False     False        1202   \n",
       "8  2018-01-31  Endeavor Air Inc.    ABY  ATL      False     False        1202   \n",
       "9  2018-01-03  Endeavor Air Inc.    ATL  ABY      False     False        1037   \n",
       "\n",
       "   DepTime  DepDelayMinutes  DepDelay  ...  TaxiIn  CRSArrTime  ArrDelay  \\\n",
       "0   1157.0              0.0       0.0  ...     7.0        1304      -8.0   \n",
       "1   1157.0              0.0       0.0  ...    12.0        1304      -6.0   \n",
       "2   1153.0              0.0       0.0  ...    11.0        1304      -2.0   \n",
       "3   1150.0              0.0       0.0  ...    11.0        1304     -11.0   \n",
       "4   1355.0              0.0       0.0  ...    11.0        1500      -1.0   \n",
       "5   1202.0              NaN       NaN  ...    13.0        1304      22.0   \n",
       "6   1204.0              2.0       2.0  ...    10.0        1304      -1.0   \n",
       "7   1153.0              0.0       0.0  ...    11.0        1304      -9.0   \n",
       "8   1153.0              0.0       0.0  ...     8.0        1304       NaN   \n",
       "9   1101.0             24.0      24.0  ...     3.0        1137      22.0   \n",
       "\n",
       "   ArrDel15  ArrivalDelayGroups  ArrTimeBlk  DistanceGroup  \\\n",
       "0       0.0                -1.0   1300-1359              1   \n",
       "1       0.0                -1.0   1300-1359              1   \n",
       "2       0.0                -1.0   1300-1359              1   \n",
       "3       0.0                -1.0   1300-1359              1   \n",
       "4       0.0                -1.0   1500-1559              1   \n",
       "5       1.0                 1.0   1300-1359              1   \n",
       "6       0.0                -1.0   1300-1359              1   \n",
       "7       0.0                -1.0   1300-1359              1   \n",
       "8       NaN                 NaN   1300-1359              1   \n",
       "9       1.0                 1.0   1100-1159              1   \n",
       "\n",
       "   DivAirportLandings  FlightYear  FlightWeek  \n",
       "0                 0.0        2018           4  \n",
       "1                 0.0        2018           4  \n",
       "2                 0.0        2018           4  \n",
       "3                 0.0        2018           4  \n",
       "4                 0.0        2018           4  \n",
       "5                 0.0        2018           4  \n",
       "6                 0.0        2018           5  \n",
       "7                 0.0        2018           5  \n",
       "8                 0.0        2018           5  \n",
       "9                 0.0        2018           1  \n",
       "\n",
       "[10 rows x 63 columns]"
      ]
     },
     "execution_count": 15,
     "metadata": {},
     "output_type": "execute_result"
    }
   ],
   "source": [
    "non_negative_delays.limit(10).toPandas()"
   ]
  },
  {
   "cell_type": "code",
   "execution_count": 16,
   "id": "60f9c4d4-b38f-4f39-8678-e75aecbb278d",
   "metadata": {},
   "outputs": [
    {
     "name": "stderr",
     "output_type": "stream",
     "text": [
      "[Stage 25:======================================================> (75 + 2) / 77]\r"
     ]
    },
    {
     "name": "stdout",
     "output_type": "stream",
     "text": [
      "+----------+----------+------+\n",
      "|FlightYear|FlightWeek| count|\n",
      "+----------+----------+------+\n",
      "|      2018|         1|122773|\n",
      "|      2018|         3|103075|\n",
      "|      2018|         5| 82196|\n",
      "|      2018|         2|101734|\n",
      "|      2018|         4|103148|\n",
      "|      2018|        41|152788|\n",
      "|      2018|        43|151973|\n",
      "|      2018|        40|151979|\n",
      "|      2018|        44|142823|\n",
      "|      2018|        42|153135|\n",
      "|      2018|        48|148387|\n",
      "|      2018|        47|143141|\n",
      "|      2018|        45|149965|\n",
      "|      2018|        46|152732|\n",
      "|      2018|        50|146117|\n",
      "|      2018|        51|154601|\n",
      "|      2018|        49|145884|\n",
      "|      2018|        52|146232|\n",
      "|      2018|         8| 68695|\n",
      "|      2018|         9| 72355|\n",
      "+----------+----------+------+\n",
      "only showing top 20 rows\n",
      "\n"
     ]
    },
    {
     "name": "stderr",
     "output_type": "stream",
     "text": [
      "                                                                                \r"
     ]
    }
   ],
   "source": [
    "non_negative_delays.groupBy(\"FlightYear\", \"FlightWeek\").count().show()"
   ]
  },
  {
   "cell_type": "code",
   "execution_count": 17,
   "id": "d8c7fece-a884-4f3f-af73-49347830e933",
   "metadata": {},
   "outputs": [
    {
     "name": "stderr",
     "output_type": "stream",
     "text": [
      "[Stage 28:======================================================> (75 + 2) / 77]\r"
     ]
    },
    {
     "name": "stdout",
     "output_type": "stream",
     "text": [
      "+----------+----------+------+\n",
      "|FlightYear|FlightWeek| count|\n",
      "+----------+----------+------+\n",
      "|      2018|         1|122773|\n",
      "|      2018|         2|101734|\n",
      "|      2018|         3|103075|\n",
      "|      2018|         4|103148|\n",
      "|      2018|         5| 82196|\n",
      "|      2018|         6| 65919|\n",
      "|      2018|         7| 66881|\n",
      "|      2018|         8| 68695|\n",
      "|      2018|         9| 72355|\n",
      "|      2018|        10| 77253|\n",
      "|      2018|        11| 79319|\n",
      "|      2018|        12| 79347|\n",
      "|      2018|        13| 83885|\n",
      "|      2018|        14|112488|\n",
      "|      2018|        15|112565|\n",
      "|      2018|        16|112597|\n",
      "|      2018|        17|112482|\n",
      "|      2018|        18| 84008|\n",
      "|      2018|        19| 78965|\n",
      "|      2018|        20| 79228|\n",
      "|      2018|        21| 78375|\n",
      "|      2018|        22| 76092|\n",
      "|      2018|        23| 73560|\n",
      "|      2018|        24| 74837|\n",
      "|      2018|        25| 75049|\n",
      "|      2018|        26| 76329|\n",
      "|      2018|        27| 79549|\n",
      "|      2018|        28| 83949|\n",
      "|      2018|        29| 83840|\n",
      "|      2018|        30| 83806|\n",
      "|      2018|        31|106770|\n",
      "|      2018|        32|114346|\n",
      "|      2018|        33|113756|\n",
      "|      2018|        34|111345|\n",
      "|      2018|        35|116049|\n",
      "|      2018|        36|148135|\n",
      "|      2018|        37|151575|\n",
      "|      2018|        38|151769|\n",
      "|      2018|        39|151711|\n",
      "|      2018|        40|151979|\n",
      "|      2018|        41|152788|\n",
      "|      2018|        42|153135|\n",
      "|      2018|        43|151973|\n",
      "|      2018|        44|142823|\n",
      "|      2018|        45|149965|\n",
      "|      2018|        46|152732|\n",
      "|      2018|        47|143141|\n",
      "|      2018|        48|148387|\n",
      "|      2018|        49|145884|\n",
      "|      2018|        50|146117|\n",
      "|      2018|        51|154601|\n",
      "|      2018|        52|146232|\n",
      "|      2019|         1|166479|\n",
      "|      2019|         2|144267|\n",
      "|      2019|         3|141546|\n",
      "|      2019|         4|143328|\n",
      "|      2019|         5|141625|\n",
      "|      2019|         6|143935|\n",
      "|      2019|         7|145054|\n",
      "|      2019|         8|149413|\n",
      "|      2019|         9|150464|\n",
      "|      2019|        10|155339|\n",
      "|      2019|        11|157394|\n",
      "|      2019|        12|156997|\n",
      "|      2019|        13|156840|\n",
      "|      2019|        14|156446|\n",
      "|      2019|        15|155903|\n",
      "|      2019|        16|154688|\n",
      "|      2019|        17|155658|\n",
      "|      2019|        18|155993|\n",
      "|      2019|        19|156399|\n",
      "|      2019|        20|157854|\n",
      "|      2019|        21|153878|\n",
      "|      2019|        22|157416|\n",
      "|      2019|        23|161170|\n",
      "|      2019|        24|163793|\n",
      "|      2019|        25|164149|\n",
      "|      2019|        26|163692|\n",
      "|      2019|        27|148285|\n",
      "|      2019|        28|165529|\n",
      "|      2019|        29|165700|\n",
      "|      2019|        30|165729|\n",
      "|      2019|        31|165886|\n",
      "|      2019|        32|164931|\n",
      "|      2019|        33|163207|\n",
      "|      2019|        34|160675|\n",
      "|      2019|        35|153196|\n",
      "|      2019|        36|152097|\n",
      "|      2019|        37|155782|\n",
      "|      2019|        38|155710|\n",
      "|      2019|        39|155755|\n",
      "|      2019|        40|157139|\n",
      "|      2019|        41|158151|\n",
      "|      2019|        42|158215|\n",
      "|      2019|        43|157057|\n",
      "|      2019|        44|148656|\n",
      "|      2019|        45|155343|\n",
      "|      2019|        46|156549|\n",
      "|      2019|        47|157951|\n",
      "|      2019|        48|147064|\n",
      "|      2019|        49|153667|\n",
      "|      2019|        50|151944|\n",
      "|      2019|        51|157798|\n",
      "|      2019|        52|149948|\n",
      "|      2020|         1|106972|\n",
      "|      2020|         2|149312|\n",
      "|      2020|         3|146135|\n",
      "|      2020|         4|148361|\n",
      "|      2020|         5|147318|\n",
      "|      2020|         6|148943|\n",
      "|      2020|         7|149737|\n",
      "|      2020|         8|154398|\n",
      "|      2020|         9|154699|\n",
      "|      2020|        10|156391|\n",
      "|      2020|        11|160216|\n",
      "|      2020|        12|161798|\n",
      "|      2020|        13|157164|\n",
      "|      2020|        14|126691|\n",
      "|      2020|        15| 89972|\n",
      "|      2020|        16| 65576|\n",
      "|      2020|        17| 59180|\n",
      "|      2020|        18| 54894|\n",
      "|      2020|        19| 41889|\n",
      "|      2020|        20| 41833|\n",
      "|      2020|        21| 43266|\n",
      "|      2020|        22| 43838|\n",
      "|      2020|        23| 48092|\n",
      "|      2020|        24| 54546|\n",
      "|      2020|        25| 56881|\n",
      "|      2020|        26| 60257|\n",
      "|      2020|        27| 67432|\n",
      "|      2020|        28| 84829|\n",
      "|      2020|        29| 87285|\n",
      "|      2020|        30| 87512|\n",
      "|      2020|        31| 87239|\n",
      "|      2020|        32| 90559|\n",
      "|      2020|        33| 90208|\n",
      "|      2020|        34| 89366|\n",
      "|      2020|        35| 89101|\n",
      "|      2020|        36| 85595|\n",
      "|      2020|        37| 80744|\n",
      "|      2020|        38| 79736|\n",
      "|      2020|        39| 79897|\n",
      "|      2020|        40| 82149|\n",
      "|      2020|        41| 85369|\n",
      "|      2020|        42| 86662|\n",
      "|      2020|        43| 84955|\n",
      "|      2020|        44| 80324|\n",
      "|      2020|        45| 84845|\n",
      "|      2020|        46| 88726|\n",
      "|      2020|        47| 93071|\n",
      "|      2020|        48| 95142|\n",
      "|      2020|        49| 88277|\n",
      "|      2020|        50| 82531|\n",
      "|      2020|        51| 92265|\n",
      "|      2020|        52| 95313|\n",
      "|      2020|        53| 54906|\n",
      "|      2021|         1| 87337|\n",
      "|      2021|         2| 82870|\n",
      "|      2021|         3| 83540|\n",
      "|      2021|         4| 83457|\n",
      "|      2021|         5| 83449|\n",
      "|      2021|         6| 86759|\n",
      "|      2021|         7| 90228|\n",
      "|      2021|         8| 89734|\n",
      "|      2021|         9| 96110|\n",
      "|      2021|        10|105947|\n",
      "|      2021|        11|109582|\n",
      "|      2021|        12|110025|\n",
      "|      2021|        13|110923|\n",
      "|      2021|        14|112232|\n",
      "|      2021|        15|109589|\n",
      "|      2021|        16|109414|\n",
      "|      2021|        17|108547|\n",
      "|      2021|        18|112717|\n",
      "|      2021|        19|118226|\n",
      "|      2021|        20|119782|\n",
      "|      2021|        21|119907|\n",
      "|      2021|        22|127407|\n",
      "|      2021|        23|134933|\n",
      "|      2021|        24|135964|\n",
      "|      2021|        25|136145|\n",
      "|      2021|        26|134765|\n",
      "|      2021|        27|138953|\n",
      "|      2021|        28|139741|\n",
      "|      2021|        29|140124|\n",
      "|      2021|        30|140013|\n",
      "|      2021|        31|139781|\n",
      "|      2021|        32|139738|\n",
      "|      2021|        33|136979|\n",
      "|      2021|        34|136411|\n",
      "|      2021|        35|133692|\n",
      "|      2021|        36|131676|\n",
      "|      2021|        37|132717|\n",
      "|      2021|        38|132687|\n",
      "|      2021|        39|132466|\n",
      "|      2021|        40|133609|\n",
      "|      2021|        41|135708|\n",
      "|      2021|        42|135511|\n",
      "|      2021|        43|133365|\n",
      "|      2021|        44|135081|\n",
      "|      2021|        45|133999|\n",
      "|      2021|        46|135724|\n",
      "|      2021|        47|131658|\n",
      "|      2021|        48|134443|\n",
      "|      2021|        49|129572|\n",
      "|      2021|        50|131999|\n",
      "|      2021|        51|130515|\n",
      "|      2021|        52| 93940|\n",
      "|      2021|        53| 42180|\n",
      "|      2022|         1|128988|\n",
      "|      2022|         2|125182|\n",
      "|      2022|         3|127031|\n",
      "|      2022|         4|126952|\n",
      "|      2022|         5|127403|\n",
      "|      2022|         6|127873|\n",
      "|      2022|         7|130362|\n",
      "|      2022|         8|133326|\n",
      "|      2022|         9|131631|\n",
      "|      2022|        10|132472|\n",
      "|      2022|        11|134610|\n",
      "|      2022|        12|134831|\n",
      "|      2022|        13|134780|\n",
      "|      2022|        14|135046|\n",
      "|      2022|        15|135801|\n",
      "|      2022|        16|135664|\n",
      "|      2022|        17|135564|\n",
      "|      2022|        18|135466|\n",
      "|      2022|        19|136039|\n",
      "|      2022|        20|136396|\n",
      "|      2022|        21|135889|\n",
      "|      2022|        22|137268|\n",
      "|      2022|        23|140692|\n",
      "|      2022|        24|141141|\n",
      "|      2022|        25|141327|\n",
      "|      2022|        26|138987|\n",
      "|      2022|        27|138581|\n",
      "|      2022|        28|140798|\n",
      "|      2022|        29|140757|\n",
      "|      2022|        30|140739|\n",
      "|      2022|        52| 36722|\n",
      "+----------+----------+------+\n",
      "\n"
     ]
    },
    {
     "name": "stderr",
     "output_type": "stream",
     "text": [
      "                                                                                \r"
     ]
    }
   ],
   "source": [
    "non_negative_delays.groupBy(\"FlightYear\", \"FlightWeek\").count().orderBy(\"FlightYear\", \"FlightWeek\").show(300)"
   ]
  },
  {
   "cell_type": "markdown",
   "id": "883d04dc-e7df-4085-acba-d9ccdd0046ac",
   "metadata": {},
   "source": [
    "- Flight data from weeks 31 to 51 in 2022 is not present"
   ]
  },
  {
   "cell_type": "code",
   "execution_count": 18,
   "id": "ab3f258b-8ac2-4283-bab2-b3b7822b6b3c",
   "metadata": {},
   "outputs": [
    {
     "name": "stderr",
     "output_type": "stream",
     "text": [
      "[Stage 31:=====================================================>  (73 + 4) / 77]\r"
     ]
    },
    {
     "name": "stdout",
     "output_type": "stream",
     "text": [
      "+--------------------+\n",
      "|             Airline|\n",
      "+--------------------+\n",
      "|GoJet Airlines, L...|\n",
      "|   Endeavor Air Inc.|\n",
      "|       Allegiant Air|\n",
      "|SkyWest Airlines ...|\n",
      "|      Virgin America|\n",
      "|         Horizon Air|\n",
      "|United Air Lines ...|\n",
      "|Air Wisconsin Air...|\n",
      "|Trans States Airl...|\n",
      "|    Compass Airlines|\n",
      "|Peninsula Airways...|\n",
      "|Frontier Airlines...|\n",
      "|            Cape Air|\n",
      "|Southwest Airline...|\n",
      "|ExpressJet Airlin...|\n",
      "|     JetBlue Airways|\n",
      "|Commutair Aka Cha...|\n",
      "|Empire Airlines Inc.|\n",
      "|Hawaiian Airlines...|\n",
      "|Alaska Airlines Inc.|\n",
      "|Delta Air Lines Inc.|\n",
      "|  Mesa Airlines Inc.|\n",
      "|   Republic Airlines|\n",
      "|    Spirit Air Lines|\n",
      "|         Comair Inc.|\n",
      "|           Envoy Air|\n",
      "|Capital Cargo Int...|\n",
      "|American Airlines...|\n",
      "+--------------------+\n",
      "\n"
     ]
    },
    {
     "name": "stderr",
     "output_type": "stream",
     "text": [
      "                                                                                \r"
     ]
    }
   ],
   "source": [
    "non_negative_delays.select(col(\"Airline\")).distinct().show(30)"
   ]
  },
  {
   "cell_type": "markdown",
   "id": "3bca5188-59f2-4538-9e75-353b84019048",
   "metadata": {},
   "source": [
    "- 28 distinct flights"
   ]
  },
  {
   "cell_type": "code",
   "execution_count": 19,
   "id": "e89b40ce-adf8-45a3-aeb0-c6d4cebd71f1",
   "metadata": {},
   "outputs": [
    {
     "data": {
      "text/html": [
       "<div>\n",
       "<style scoped>\n",
       "    .dataframe tbody tr th:only-of-type {\n",
       "        vertical-align: middle;\n",
       "    }\n",
       "\n",
       "    .dataframe tbody tr th {\n",
       "        vertical-align: top;\n",
       "    }\n",
       "\n",
       "    .dataframe thead th {\n",
       "        text-align: right;\n",
       "    }\n",
       "</style>\n",
       "<table border=\"1\" class=\"dataframe\">\n",
       "  <thead>\n",
       "    <tr style=\"text-align: right;\">\n",
       "      <th></th>\n",
       "      <th>FlightDate</th>\n",
       "      <th>Airline</th>\n",
       "      <th>Origin</th>\n",
       "      <th>Dest</th>\n",
       "      <th>Cancelled</th>\n",
       "      <th>Diverted</th>\n",
       "      <th>CRSDepTime</th>\n",
       "      <th>DepTime</th>\n",
       "      <th>DepDelayMinutes</th>\n",
       "      <th>DepDelay</th>\n",
       "      <th>...</th>\n",
       "      <th>TaxiIn</th>\n",
       "      <th>CRSArrTime</th>\n",
       "      <th>ArrDelay</th>\n",
       "      <th>ArrDel15</th>\n",
       "      <th>ArrivalDelayGroups</th>\n",
       "      <th>ArrTimeBlk</th>\n",
       "      <th>DistanceGroup</th>\n",
       "      <th>DivAirportLandings</th>\n",
       "      <th>FlightYear</th>\n",
       "      <th>FlightWeek</th>\n",
       "    </tr>\n",
       "  </thead>\n",
       "  <tbody>\n",
       "    <tr>\n",
       "      <th>0</th>\n",
       "      <td>2018-01-23</td>\n",
       "      <td>Endeavor Air Inc.</td>\n",
       "      <td>ABY</td>\n",
       "      <td>ATL</td>\n",
       "      <td>False</td>\n",
       "      <td>False</td>\n",
       "      <td>1202</td>\n",
       "      <td>1157.0</td>\n",
       "      <td>0.0</td>\n",
       "      <td>0.0</td>\n",
       "      <td>...</td>\n",
       "      <td>7.0</td>\n",
       "      <td>1304</td>\n",
       "      <td>-8.0</td>\n",
       "      <td>0.0</td>\n",
       "      <td>-1.0</td>\n",
       "      <td>1300-1359</td>\n",
       "      <td>1</td>\n",
       "      <td>0.0</td>\n",
       "      <td>2018</td>\n",
       "      <td>4</td>\n",
       "    </tr>\n",
       "    <tr>\n",
       "      <th>1</th>\n",
       "      <td>2018-01-24</td>\n",
       "      <td>Endeavor Air Inc.</td>\n",
       "      <td>ABY</td>\n",
       "      <td>ATL</td>\n",
       "      <td>False</td>\n",
       "      <td>False</td>\n",
       "      <td>1202</td>\n",
       "      <td>1157.0</td>\n",
       "      <td>0.0</td>\n",
       "      <td>0.0</td>\n",
       "      <td>...</td>\n",
       "      <td>12.0</td>\n",
       "      <td>1304</td>\n",
       "      <td>-6.0</td>\n",
       "      <td>0.0</td>\n",
       "      <td>-1.0</td>\n",
       "      <td>1300-1359</td>\n",
       "      <td>1</td>\n",
       "      <td>0.0</td>\n",
       "      <td>2018</td>\n",
       "      <td>4</td>\n",
       "    </tr>\n",
       "    <tr>\n",
       "      <th>2</th>\n",
       "      <td>2018-01-25</td>\n",
       "      <td>Endeavor Air Inc.</td>\n",
       "      <td>ABY</td>\n",
       "      <td>ATL</td>\n",
       "      <td>False</td>\n",
       "      <td>False</td>\n",
       "      <td>1202</td>\n",
       "      <td>1153.0</td>\n",
       "      <td>0.0</td>\n",
       "      <td>0.0</td>\n",
       "      <td>...</td>\n",
       "      <td>11.0</td>\n",
       "      <td>1304</td>\n",
       "      <td>-2.0</td>\n",
       "      <td>0.0</td>\n",
       "      <td>-1.0</td>\n",
       "      <td>1300-1359</td>\n",
       "      <td>1</td>\n",
       "      <td>0.0</td>\n",
       "      <td>2018</td>\n",
       "      <td>4</td>\n",
       "    </tr>\n",
       "    <tr>\n",
       "      <th>3</th>\n",
       "      <td>2018-01-26</td>\n",
       "      <td>Endeavor Air Inc.</td>\n",
       "      <td>ABY</td>\n",
       "      <td>ATL</td>\n",
       "      <td>False</td>\n",
       "      <td>False</td>\n",
       "      <td>1202</td>\n",
       "      <td>1150.0</td>\n",
       "      <td>0.0</td>\n",
       "      <td>0.0</td>\n",
       "      <td>...</td>\n",
       "      <td>11.0</td>\n",
       "      <td>1304</td>\n",
       "      <td>-11.0</td>\n",
       "      <td>0.0</td>\n",
       "      <td>-1.0</td>\n",
       "      <td>1300-1359</td>\n",
       "      <td>1</td>\n",
       "      <td>0.0</td>\n",
       "      <td>2018</td>\n",
       "      <td>4</td>\n",
       "    </tr>\n",
       "    <tr>\n",
       "      <th>4</th>\n",
       "      <td>2018-01-27</td>\n",
       "      <td>Endeavor Air Inc.</td>\n",
       "      <td>ABY</td>\n",
       "      <td>ATL</td>\n",
       "      <td>False</td>\n",
       "      <td>False</td>\n",
       "      <td>1400</td>\n",
       "      <td>1355.0</td>\n",
       "      <td>0.0</td>\n",
       "      <td>0.0</td>\n",
       "      <td>...</td>\n",
       "      <td>11.0</td>\n",
       "      <td>1500</td>\n",
       "      <td>-1.0</td>\n",
       "      <td>0.0</td>\n",
       "      <td>-1.0</td>\n",
       "      <td>1500-1559</td>\n",
       "      <td>1</td>\n",
       "      <td>0.0</td>\n",
       "      <td>2018</td>\n",
       "      <td>4</td>\n",
       "    </tr>\n",
       "    <tr>\n",
       "      <th>5</th>\n",
       "      <td>2018-01-28</td>\n",
       "      <td>Endeavor Air Inc.</td>\n",
       "      <td>ABY</td>\n",
       "      <td>ATL</td>\n",
       "      <td>False</td>\n",
       "      <td>False</td>\n",
       "      <td>1202</td>\n",
       "      <td>1202.0</td>\n",
       "      <td>NaN</td>\n",
       "      <td>NaN</td>\n",
       "      <td>...</td>\n",
       "      <td>13.0</td>\n",
       "      <td>1304</td>\n",
       "      <td>22.0</td>\n",
       "      <td>1.0</td>\n",
       "      <td>1.0</td>\n",
       "      <td>1300-1359</td>\n",
       "      <td>1</td>\n",
       "      <td>0.0</td>\n",
       "      <td>2018</td>\n",
       "      <td>4</td>\n",
       "    </tr>\n",
       "    <tr>\n",
       "      <th>6</th>\n",
       "      <td>2018-01-29</td>\n",
       "      <td>Endeavor Air Inc.</td>\n",
       "      <td>ABY</td>\n",
       "      <td>ATL</td>\n",
       "      <td>False</td>\n",
       "      <td>False</td>\n",
       "      <td>1202</td>\n",
       "      <td>1204.0</td>\n",
       "      <td>2.0</td>\n",
       "      <td>2.0</td>\n",
       "      <td>...</td>\n",
       "      <td>10.0</td>\n",
       "      <td>1304</td>\n",
       "      <td>-1.0</td>\n",
       "      <td>0.0</td>\n",
       "      <td>-1.0</td>\n",
       "      <td>1300-1359</td>\n",
       "      <td>1</td>\n",
       "      <td>0.0</td>\n",
       "      <td>2018</td>\n",
       "      <td>5</td>\n",
       "    </tr>\n",
       "    <tr>\n",
       "      <th>7</th>\n",
       "      <td>2018-01-30</td>\n",
       "      <td>Endeavor Air Inc.</td>\n",
       "      <td>ABY</td>\n",
       "      <td>ATL</td>\n",
       "      <td>False</td>\n",
       "      <td>False</td>\n",
       "      <td>1202</td>\n",
       "      <td>1153.0</td>\n",
       "      <td>0.0</td>\n",
       "      <td>0.0</td>\n",
       "      <td>...</td>\n",
       "      <td>11.0</td>\n",
       "      <td>1304</td>\n",
       "      <td>-9.0</td>\n",
       "      <td>0.0</td>\n",
       "      <td>-1.0</td>\n",
       "      <td>1300-1359</td>\n",
       "      <td>1</td>\n",
       "      <td>0.0</td>\n",
       "      <td>2018</td>\n",
       "      <td>5</td>\n",
       "    </tr>\n",
       "    <tr>\n",
       "      <th>8</th>\n",
       "      <td>2018-01-31</td>\n",
       "      <td>Endeavor Air Inc.</td>\n",
       "      <td>ABY</td>\n",
       "      <td>ATL</td>\n",
       "      <td>False</td>\n",
       "      <td>False</td>\n",
       "      <td>1202</td>\n",
       "      <td>1153.0</td>\n",
       "      <td>0.0</td>\n",
       "      <td>0.0</td>\n",
       "      <td>...</td>\n",
       "      <td>8.0</td>\n",
       "      <td>1304</td>\n",
       "      <td>NaN</td>\n",
       "      <td>NaN</td>\n",
       "      <td>NaN</td>\n",
       "      <td>1300-1359</td>\n",
       "      <td>1</td>\n",
       "      <td>0.0</td>\n",
       "      <td>2018</td>\n",
       "      <td>5</td>\n",
       "    </tr>\n",
       "    <tr>\n",
       "      <th>9</th>\n",
       "      <td>2018-01-03</td>\n",
       "      <td>Endeavor Air Inc.</td>\n",
       "      <td>ATL</td>\n",
       "      <td>ABY</td>\n",
       "      <td>False</td>\n",
       "      <td>False</td>\n",
       "      <td>1037</td>\n",
       "      <td>1101.0</td>\n",
       "      <td>24.0</td>\n",
       "      <td>24.0</td>\n",
       "      <td>...</td>\n",
       "      <td>3.0</td>\n",
       "      <td>1137</td>\n",
       "      <td>22.0</td>\n",
       "      <td>1.0</td>\n",
       "      <td>1.0</td>\n",
       "      <td>1100-1159</td>\n",
       "      <td>1</td>\n",
       "      <td>0.0</td>\n",
       "      <td>2018</td>\n",
       "      <td>1</td>\n",
       "    </tr>\n",
       "  </tbody>\n",
       "</table>\n",
       "<p>10 rows × 63 columns</p>\n",
       "</div>"
      ],
      "text/plain": [
       "   FlightDate            Airline Origin Dest  Cancelled  Diverted  CRSDepTime  \\\n",
       "0  2018-01-23  Endeavor Air Inc.    ABY  ATL      False     False        1202   \n",
       "1  2018-01-24  Endeavor Air Inc.    ABY  ATL      False     False        1202   \n",
       "2  2018-01-25  Endeavor Air Inc.    ABY  ATL      False     False        1202   \n",
       "3  2018-01-26  Endeavor Air Inc.    ABY  ATL      False     False        1202   \n",
       "4  2018-01-27  Endeavor Air Inc.    ABY  ATL      False     False        1400   \n",
       "5  2018-01-28  Endeavor Air Inc.    ABY  ATL      False     False        1202   \n",
       "6  2018-01-29  Endeavor Air Inc.    ABY  ATL      False     False        1202   \n",
       "7  2018-01-30  Endeavor Air Inc.    ABY  ATL      False     False        1202   \n",
       "8  2018-01-31  Endeavor Air Inc.    ABY  ATL      False     False        1202   \n",
       "9  2018-01-03  Endeavor Air Inc.    ATL  ABY      False     False        1037   \n",
       "\n",
       "   DepTime  DepDelayMinutes  DepDelay  ...  TaxiIn  CRSArrTime  ArrDelay  \\\n",
       "0   1157.0              0.0       0.0  ...     7.0        1304      -8.0   \n",
       "1   1157.0              0.0       0.0  ...    12.0        1304      -6.0   \n",
       "2   1153.0              0.0       0.0  ...    11.0        1304      -2.0   \n",
       "3   1150.0              0.0       0.0  ...    11.0        1304     -11.0   \n",
       "4   1355.0              0.0       0.0  ...    11.0        1500      -1.0   \n",
       "5   1202.0              NaN       NaN  ...    13.0        1304      22.0   \n",
       "6   1204.0              2.0       2.0  ...    10.0        1304      -1.0   \n",
       "7   1153.0              0.0       0.0  ...    11.0        1304      -9.0   \n",
       "8   1153.0              0.0       0.0  ...     8.0        1304       NaN   \n",
       "9   1101.0             24.0      24.0  ...     3.0        1137      22.0   \n",
       "\n",
       "   ArrDel15  ArrivalDelayGroups  ArrTimeBlk  DistanceGroup  \\\n",
       "0       0.0                -1.0   1300-1359              1   \n",
       "1       0.0                -1.0   1300-1359              1   \n",
       "2       0.0                -1.0   1300-1359              1   \n",
       "3       0.0                -1.0   1300-1359              1   \n",
       "4       0.0                -1.0   1500-1559              1   \n",
       "5       1.0                 1.0   1300-1359              1   \n",
       "6       0.0                -1.0   1300-1359              1   \n",
       "7       0.0                -1.0   1300-1359              1   \n",
       "8       NaN                 NaN   1300-1359              1   \n",
       "9       1.0                 1.0   1100-1159              1   \n",
       "\n",
       "   DivAirportLandings  FlightYear  FlightWeek  \n",
       "0                 0.0        2018           4  \n",
       "1                 0.0        2018           4  \n",
       "2                 0.0        2018           4  \n",
       "3                 0.0        2018           4  \n",
       "4                 0.0        2018           4  \n",
       "5                 0.0        2018           4  \n",
       "6                 0.0        2018           5  \n",
       "7                 0.0        2018           5  \n",
       "8                 0.0        2018           5  \n",
       "9                 0.0        2018           1  \n",
       "\n",
       "[10 rows x 63 columns]"
      ]
     },
     "execution_count": 19,
     "metadata": {},
     "output_type": "execute_result"
    }
   ],
   "source": [
    "non_negative_delays.limit(10).toPandas()"
   ]
  },
  {
   "cell_type": "code",
   "execution_count": 20,
   "id": "c09962e1-da87-4457-afbe-f5eadfac0438",
   "metadata": {},
   "outputs": [
    {
     "name": "stderr",
     "output_type": "stream",
     "text": [
      "                                                                                \r"
     ]
    },
    {
     "data": {
      "text/plain": [
       "29193782"
      ]
     },
     "execution_count": 20,
     "metadata": {},
     "output_type": "execute_result"
    }
   ],
   "source": [
    "delays.select(col(\"Diverted\")).count()"
   ]
  },
  {
   "cell_type": "code",
   "execution_count": 21,
   "id": "e89e88f7-3876-4c46-9aa7-5925659bca0c",
   "metadata": {},
   "outputs": [
    {
     "name": "stderr",
     "output_type": "stream",
     "text": [
      "                                                                                \r"
     ]
    },
    {
     "data": {
      "text/plain": [
       "777267"
      ]
     },
     "execution_count": 21,
     "metadata": {},
     "output_type": "execute_result"
    }
   ],
   "source": [
    "delays.where(col(\"Cancelled\") == True).count()"
   ]
  },
  {
   "cell_type": "code",
   "execution_count": 22,
   "id": "c617b0fa-68b1-4534-a5e2-1692a5d04fd9",
   "metadata": {},
   "outputs": [
    {
     "name": "stderr",
     "output_type": "stream",
     "text": [
      "[Stage 41:======================================================> (75 + 2) / 77]\r"
     ]
    },
    {
     "name": "stdout",
     "output_type": "stream",
     "text": [
      "+--------------------+-------------+---------------+--------------------+\n",
      "|             Airline|Airline Count|Cancelled Count|     Cancelled Ratio|\n",
      "+--------------------+-------------+---------------+--------------------+\n",
      "|GoJet Airlines, L...|       276486|           9240| 0.03341941364119702|\n",
      "|   Endeavor Air Inc.|       998224|          20193|0.020228926573594704|\n",
      "|       Allegiant Air|       489400|          22409|0.045788720882713525|\n",
      "|SkyWest Airlines ...|      3159683|          72587|0.022972874177567812|\n",
      "|      Virgin America|        17670|            433|  0.0245048104131296|\n",
      "|         Horizon Air|       471153|          11022|0.023393674666191237|\n",
      "|United Air Lines ...|      2354538|          47061|0.019987360577743914|\n",
      "|Air Wisconsin Air...|       380202|          14092| 0.03706450781426715|\n",
      "|Trans States Airl...|       161590|           6614| 0.04093075066526394|\n",
      "|    Compass Airlines|       154985|           1986|0.012814143304190728|\n",
      "|Peninsula Airways...|         2783|            431| 0.15486884656845132|\n",
      "|Frontier Airlines...|       570452|          13730| 0.02406863329429996|\n",
      "|            Cape Air|         1661|              2|0.001204093919325...|\n",
      "|Southwest Airline...|      5474339|         171408|0.031311177477317355|\n",
      "|ExpressJet Airlin...|       353669|          14363|0.040611419151805786|\n",
      "|     JetBlue Airways|      1106079|          29095|0.026304631043533058|\n",
      "|Commutair Aka Cha...|       260048|          11005| 0.04231911031809512|\n",
      "|Empire Airlines Inc.|        23122|           1293| 0.05592076809964536|\n",
      "|Hawaiian Airlines...|       310782|           3146|0.010122851387789511|\n",
      "|Alaska Airlines Inc.|       906259|          17117| 0.01888753656515411|\n",
      "|Delta Air Lines Inc.|      3294917|          46734| 0.01418366532449831|\n",
      "|  Mesa Airlines Inc.|       749216|          25769| 0.03439462050997309|\n",
      "|   Republic Airlines|      1283704|          40930|0.031884297314645746|\n",
      "|    Spirit Air Lines|       836694|          18150|0.021692518411749098|\n",
      "|         Comair Inc.|       957220|          31795|0.033215979607613716|\n",
      "|           Envoy Air|      1072778|          36123|  0.0336723907462681|\n",
      "|Capital Cargo Int...|       392011|          15481| 0.03949123876625911|\n",
      "|American Airlines...|      3134117|          95058|0.030330073829407136|\n",
      "+--------------------+-------------+---------------+--------------------+\n",
      "\n"
     ]
    },
    {
     "name": "stderr",
     "output_type": "stream",
     "text": [
      "                                                                                \r"
     ]
    }
   ],
   "source": [
    "from pyspark.sql.functions import col, count, when\n",
    "\n",
    "flight_counts = delays.groupBy('Airline') \\\n",
    "                  .agg(count('*').alias('Airline Count'),\n",
    "                       count(when(col('Cancelled') == True, True)).alias('Cancelled Count'))\n",
    "flight_counts_ratio = flight_counts.withColumn('Cancelled Ratio', col('Cancelled Count') / col('Airline Count'))\n",
    "flight_counts_ratio.show(30)"
   ]
  },
  {
   "cell_type": "code",
   "execution_count": 23,
   "id": "1d623722-3a39-476e-a666-457768a3b0b1",
   "metadata": {
    "scrolled": true
   },
   "outputs": [
    {
     "name": "stdout",
     "output_type": "stream",
     "text": [
      "['FlightDate', 'Airline', 'Origin', 'Dest', 'Cancelled', 'Diverted', 'CRSDepTime', 'DepTime', 'DepDelayMinutes', 'DepDelay', 'ArrTime', 'ArrDelayMinutes', 'AirTime', 'CRSElapsedTime', 'ActualElapsedTime', 'Distance', 'Year', 'Quarter', 'Month', 'DayofMonth', 'DayOfWeek', 'Marketing_Airline_Network', 'Operated_or_Branded_Code_Share_Partners', 'DOT_ID_Marketing_Airline', 'IATA_Code_Marketing_Airline', 'Flight_Number_Marketing_Airline', 'Operating_Airline', 'DOT_ID_Operating_Airline', 'IATA_Code_Operating_Airline', 'Tail_Number', 'Flight_Number_Operating_Airline', 'OriginAirportID', 'OriginAirportSeqID', 'OriginCityMarketID', 'OriginCityName', 'OriginState', 'OriginStateFips', 'OriginStateName', 'OriginWac', 'DestAirportID', 'DestAirportSeqID', 'DestCityMarketID', 'DestCityName', 'DestState', 'DestStateFips', 'DestStateName', 'DestWac', 'DepDel15', 'DepartureDelayGroups', 'DepTimeBlk', 'TaxiOut', 'WheelsOff', 'WheelsOn', 'TaxiIn', 'CRSArrTime', 'ArrDelay', 'ArrDel15', 'ArrivalDelayGroups', 'ArrTimeBlk', 'DistanceGroup', 'DivAirportLandings', 'FlightYear', 'FlightWeek']\n"
     ]
    }
   ],
   "source": [
    "print(list(non_negative_delays.columns))"
   ]
  },
  {
   "cell_type": "code",
   "execution_count": 24,
   "id": "e1c204d4-8041-4a40-a985-e4bd5eed8aa4",
   "metadata": {},
   "outputs": [],
   "source": [
    "# # Can be used in output\n",
    "# Cancelled, Diverted\n",
    "\n",
    "\n",
    "# ArrDelay\n"
   ]
  },
  {
   "cell_type": "code",
   "execution_count": 25,
   "id": "011c24ee-e66d-4fce-9654-f5e123e43c49",
   "metadata": {},
   "outputs": [],
   "source": [
    "# # Required \n",
    "# Airline, Origin, Dest,  FlightYear, FlightWeek\n",
    "\n",
    "# # optiional\n",
    "# CRSDepTime - dayPart conversion: By default search for all\n",
    "# Distance - Computed by org and dest\n",
    "# CRSArrTime - dayPart conversion: By default search for all"
   ]
  },
  {
   "cell_type": "code",
   "execution_count": 26,
   "id": "18e4c028-9040-4ab9-ba66-6456a5be0633",
   "metadata": {},
   "outputs": [],
   "source": [
    "# # Not required\n",
    "# FlightDate, Cancelled, Diverted, DepDelay, CRSDepTime, DepTime, DepDelay, ArrTime, ArrDelayMinutes, DepDelayMinutes"
   ]
  },
  {
   "cell_type": "code",
   "execution_count": 27,
   "id": "550afc81-2eac-45eb-a18d-86ef1c62f282",
   "metadata": {},
   "outputs": [],
   "source": [
    "# required_fields_df = non_negative_delays[['Airline', 'Origin', 'Dest',  'FlightYear', 'FlightWeek', 'DayOfWeek', 'Distance', 'CRSDepTime', 'CRSArrTime', 'ArrDelay']]\n",
    "required_fields_df = non_negative_delays[['Airline', 'Origin', 'Dest',  'FlightYear', 'FlightWeek', 'Distance', 'CRSDepTime', 'CRSArrTime', 'ArrDelay']]\n",
    "test = required_fields_df"
   ]
  },
  {
   "cell_type": "code",
   "execution_count": 28,
   "id": "c2cda0f8-f628-4dda-b09d-bd82afc19410",
   "metadata": {},
   "outputs": [
    {
     "name": "stdout",
     "output_type": "stream",
     "text": [
      "+-----------------+------+----+----------+----------+--------+----------+----------+--------+\n",
      "|          Airline|Origin|Dest|FlightYear|FlightWeek|Distance|CRSDepTime|CRSArrTime|ArrDelay|\n",
      "+-----------------+------+----+----------+----------+--------+----------+----------+--------+\n",
      "|Endeavor Air Inc.|   ABY| ATL|      2018|         4|   145.0|      1202|      1304|    -8.0|\n",
      "|Endeavor Air Inc.|   ABY| ATL|      2018|         4|   145.0|      1202|      1304|    -6.0|\n",
      "|Endeavor Air Inc.|   ABY| ATL|      2018|         4|   145.0|      1202|      1304|    -2.0|\n",
      "|Endeavor Air Inc.|   ABY| ATL|      2018|         4|   145.0|      1202|      1304|   -11.0|\n",
      "|Endeavor Air Inc.|   ABY| ATL|      2018|         4|   145.0|      1400|      1500|    -1.0|\n",
      "|Endeavor Air Inc.|   ABY| ATL|      2018|         4|   145.0|      1202|      1304|    22.0|\n",
      "|Endeavor Air Inc.|   ABY| ATL|      2018|         5|   145.0|      1202|      1304|    -1.0|\n",
      "|Endeavor Air Inc.|   ABY| ATL|      2018|         5|   145.0|      1202|      1304|    -9.0|\n",
      "|Endeavor Air Inc.|   ABY| ATL|      2018|         5|   145.0|      1202|      1304|    NULL|\n",
      "|Endeavor Air Inc.|   ATL| ABY|      2018|         1|   145.0|      1037|      1137|    22.0|\n",
      "|Endeavor Air Inc.|   ATL| ABY|      2018|         1|   145.0|      1037|      1137|   -12.0|\n",
      "|Endeavor Air Inc.|   ATL| ABY|      2018|         1|   145.0|      1037|      1137|   -13.0|\n",
      "|Endeavor Air Inc.|   ATL| ABY|      2018|         1|   145.0|      1037|      1136|   -10.0|\n",
      "|Endeavor Air Inc.|   ATL| ABY|      2018|         1|   145.0|      1037|      1137|   -13.0|\n",
      "|Endeavor Air Inc.|   ATL| ABY|      2018|         2|   145.0|      1037|      1137|    16.0|\n",
      "|Endeavor Air Inc.|   ATL| ABY|      2018|         2|   145.0|      1037|      1137|   105.0|\n",
      "|Endeavor Air Inc.|   ATL| ABY|      2018|         2|   145.0|      1037|      1137|   -11.0|\n",
      "|Endeavor Air Inc.|   ATL| ABY|      2018|         2|   145.0|      1037|      1137|     8.0|\n",
      "|Endeavor Air Inc.|   ATL| ABY|      2018|         2|   145.0|      1037|      1137|     1.0|\n",
      "|Endeavor Air Inc.|   ATL| ABY|      2018|         2|   145.0|      1037|      1136|   -10.0|\n",
      "|Endeavor Air Inc.|   ATL| ABY|      2018|         2|   145.0|      1037|      1137|   -17.0|\n",
      "|Endeavor Air Inc.|   ATL| ABY|      2018|         3|   145.0|      1037|      1137|   -14.0|\n",
      "|Endeavor Air Inc.|   ATL| ABY|      2018|         3|   145.0|      1037|      1137|    -8.0|\n",
      "|Endeavor Air Inc.|   ATL| ABY|      2018|         3|   145.0|      1037|      1137|    NULL|\n",
      "|Endeavor Air Inc.|   ATL| ABY|      2018|         3|   145.0|      1037|      1137|   128.0|\n",
      "|Endeavor Air Inc.|   ATL| ABY|      2018|         3|   145.0|      1037|      1137|   -10.0|\n",
      "|Endeavor Air Inc.|   ATL| ABY|      2018|         3|   145.0|      1037|      1136|   -15.0|\n",
      "|Endeavor Air Inc.|   ATL| ABY|      2018|         3|   145.0|      1037|      1137|   -15.0|\n",
      "|Endeavor Air Inc.|   ATL| ABY|      2018|         4|   145.0|      1037|      1137|    -5.0|\n",
      "|Endeavor Air Inc.|   ATL| ABY|      2018|         4|   145.0|      1037|      1137|    -4.0|\n",
      "|Endeavor Air Inc.|   ATL| ABY|      2018|         4|   145.0|      1037|      1137|   -14.0|\n",
      "|Endeavor Air Inc.|   ATL| ABY|      2018|         4|   145.0|      1037|      1137|   -18.0|\n",
      "|Endeavor Air Inc.|   ATL| ABY|      2018|         4|   145.0|      1037|      1137|   -15.0|\n",
      "|Endeavor Air Inc.|   ATL| ABY|      2018|         4|   145.0|      1037|      1136|   -17.0|\n",
      "|Endeavor Air Inc.|   ATL| ABY|      2018|         4|   145.0|      1037|      1137|    -2.0|\n",
      "|Endeavor Air Inc.|   ATL| ABY|      2018|         5|   145.0|      1037|      1137|    NULL|\n",
      "|Endeavor Air Inc.|   ATL| ABY|      2018|         5|   145.0|      1037|      1137|   -14.0|\n",
      "|Endeavor Air Inc.|   ATL| ABY|      2018|         5|   145.0|      1037|      1137|   -16.0|\n",
      "|Endeavor Air Inc.|   ATL| MOB|      2018|         1|   302.0|       940|      1008|   -19.0|\n",
      "|Endeavor Air Inc.|   ATL| MOB|      2018|         1|   302.0|       820|       849|    -7.0|\n",
      "|Endeavor Air Inc.|   MOB| ATL|      2018|         1|   302.0|      1035|      1258|     6.0|\n",
      "|Endeavor Air Inc.|   MOB| ATL|      2018|         1|   302.0|       914|      1130|     1.0|\n",
      "|Endeavor Air Inc.|   ATL| EVV|      2018|         1|   350.0|       939|      1008|   -14.0|\n",
      "|Endeavor Air Inc.|   ATL| EVV|      2018|         1|   350.0|       939|      1008|   -12.0|\n",
      "|Endeavor Air Inc.|   ATL| EVV|      2018|         1|   350.0|       939|      1008|   -15.0|\n",
      "|Endeavor Air Inc.|   ATL| EVV|      2018|         2|   350.0|       939|      1008|   -13.0|\n",
      "|Endeavor Air Inc.|   ATL| EVV|      2018|         2|   350.0|       939|      1008|   -19.0|\n",
      "|Endeavor Air Inc.|   ATL| EVV|      2018|         2|   350.0|       939|      1008|   -16.0|\n",
      "|Endeavor Air Inc.|   ATL| EVV|      2018|         2|   350.0|       939|      1008|    NULL|\n",
      "|Endeavor Air Inc.|   ATL| EVV|      2018|         2|   350.0|       939|      1008|    NULL|\n",
      "|Endeavor Air Inc.|   ATL| EVV|      2018|         2|   350.0|       941|      1008|   117.0|\n",
      "|Endeavor Air Inc.|   ATL| EVV|      2018|         2|   350.0|       939|      1008|   -11.0|\n",
      "|Endeavor Air Inc.|   ATL| EVV|      2018|         3|   350.0|       939|      1008|   -13.0|\n",
      "|Endeavor Air Inc.|   ATL| EVV|      2018|         3|   350.0|       939|      1008|   -11.0|\n",
      "|Endeavor Air Inc.|   ATL| EVV|      2018|         3|   350.0|       939|      1008|    NULL|\n",
      "|Endeavor Air Inc.|   ATL| EVV|      2018|         3|   350.0|       939|      1008|    97.0|\n",
      "|Endeavor Air Inc.|   ATL| EVV|      2018|         3|   350.0|       939|      1008|   -21.0|\n",
      "|Endeavor Air Inc.|   ATL| EVV|      2018|         4|   350.0|       939|      1008|   -13.0|\n",
      "|Endeavor Air Inc.|   ATL| EVV|      2018|         4|   350.0|       939|      1008|   -19.0|\n",
      "|Endeavor Air Inc.|   ATL| EVV|      2018|         4|   350.0|       939|      1008|   -20.0|\n",
      "|Endeavor Air Inc.|   ATL| EVV|      2018|         4|   350.0|       939|      1008|    18.0|\n",
      "|Endeavor Air Inc.|   ATL| EVV|      2018|         4|   350.0|       939|      1008|   -25.0|\n",
      "|Endeavor Air Inc.|   ATL| EVV|      2018|         5|   350.0|       939|      1008|    25.0|\n",
      "|Endeavor Air Inc.|   ATL| EVV|      2018|         5|   350.0|       939|      1008|    16.0|\n",
      "|Endeavor Air Inc.|   ATL| EVV|      2018|         5|   350.0|       939|      1008|    59.0|\n",
      "|Endeavor Air Inc.|   BUF| DTW|      2018|         1|   241.0|      1006|      1130|    30.0|\n",
      "|Endeavor Air Inc.|   BUF| DTW|      2018|         3|   241.0|      1006|      1130|   -21.0|\n",
      "|Endeavor Air Inc.|   BUF| DTW|      2018|         4|   241.0|      1006|      1130|   -19.0|\n",
      "|Endeavor Air Inc.|   DFW| DTW|      2018|         1|   986.0|       730|      1116|    NULL|\n",
      "|Endeavor Air Inc.|   ATL| OAJ|      2018|         1|   399.0|      2215|      2340|   -10.0|\n",
      "|Endeavor Air Inc.|   BTV| DTW|      2018|         1|   537.0|      1240|      1455|   -14.0|\n",
      "|Endeavor Air Inc.|   BTV| DTW|      2018|         1|   537.0|      1240|      1455|   -14.0|\n",
      "|Endeavor Air Inc.|   BTV| DTW|      2018|         1|   537.0|      1240|      1455|    -4.0|\n",
      "|Endeavor Air Inc.|   BTV| DTW|      2018|         1|   537.0|      1240|      1455|   -24.0|\n",
      "|Endeavor Air Inc.|   BTV| DTW|      2018|         2|   537.0|      1240|      1455|    -4.0|\n",
      "|Endeavor Air Inc.|   BTV| DTW|      2018|         2|   537.0|      1240|      1455|     6.0|\n",
      "|Endeavor Air Inc.|   BTV| DTW|      2018|         2|   537.0|      1240|      1455|     3.0|\n",
      "|Endeavor Air Inc.|   BTV| DTW|      2018|         2|   537.0|      1240|      1455|    -5.0|\n",
      "|Endeavor Air Inc.|   BTV| DTW|      2018|         2|   537.0|      1240|      1455|   -17.0|\n",
      "|Endeavor Air Inc.|   BTV| DTW|      2018|         3|   537.0|      1240|      1455|   -22.0|\n",
      "|Endeavor Air Inc.|   BTV| DTW|      2018|         3|   537.0|      1240|      1455|    -2.0|\n",
      "|Endeavor Air Inc.|   BTV| DTW|      2018|         3|   537.0|      1240|      1455|    -5.0|\n",
      "|Endeavor Air Inc.|   BTV| DTW|      2018|         3|   537.0|      1240|      1455|     6.0|\n",
      "|Endeavor Air Inc.|   BTV| DTW|      2018|         3|   537.0|      1240|      1455|   -31.0|\n",
      "|Endeavor Air Inc.|   BTV| DTW|      2018|         3|   537.0|      1240|      1455|    -9.0|\n",
      "|Endeavor Air Inc.|   BTV| DTW|      2018|         4|   537.0|      1240|      1455|   -14.0|\n",
      "|Endeavor Air Inc.|   BTV| DTW|      2018|         4|   537.0|      1240|      1455|   -26.0|\n",
      "|Endeavor Air Inc.|   BTV| DTW|      2018|         4|   537.0|      1240|      1455|   -17.0|\n",
      "|Endeavor Air Inc.|   BTV| DTW|      2018|         4|   537.0|      1240|      1455|   -33.0|\n",
      "|Endeavor Air Inc.|   BTV| DTW|      2018|         4|   537.0|      1240|      1455|   -17.0|\n",
      "|Endeavor Air Inc.|   BTV| DTW|      2018|         4|   537.0|      1240|      1455|   -15.0|\n",
      "|Endeavor Air Inc.|   BTV| DTW|      2018|         5|   537.0|      1240|      1455|    87.0|\n",
      "|Endeavor Air Inc.|   BTV| DTW|      2018|         5|   537.0|      1240|      1455|    -8.0|\n",
      "|Endeavor Air Inc.|   BTV| DTW|      2018|         5|   537.0|      1240|      1455|   -18.0|\n",
      "|Endeavor Air Inc.|   CVG| BOS|      2018|         1|   752.0|       910|      1119|    88.0|\n",
      "|Endeavor Air Inc.|   LGA| SYR|      2018|         1|   198.0|      1810|      1928|   -15.0|\n",
      "|Endeavor Air Inc.|   LGA| SYR|      2018|         2|   198.0|      1810|      1929|   -22.0|\n",
      "|Endeavor Air Inc.|   LGA| SYR|      2018|         2|   198.0|      1810|      1931|   -14.0|\n",
      "|Endeavor Air Inc.|   LGA| SYR|      2018|         3|   198.0|      1810|      1928|   -25.0|\n",
      "|Endeavor Air Inc.|   LGA| SYR|      2018|         4|   198.0|      1810|      1929|   -26.0|\n",
      "+-----------------+------+----+----------+----------+--------+----------+----------+--------+\n",
      "only showing top 100 rows\n",
      "\n"
     ]
    }
   ],
   "source": [
    "test.show(100)"
   ]
  },
  {
   "cell_type": "code",
   "execution_count": 29,
   "id": "eacfa37f-3ecc-4f30-993f-04d58900d117",
   "metadata": {},
   "outputs": [
    {
     "name": "stderr",
     "output_type": "stream",
     "text": [
      "                                                                                \r"
     ]
    },
    {
     "data": {
      "text/plain": [
       "388"
      ]
     },
     "execution_count": 29,
     "metadata": {},
     "output_type": "execute_result"
    }
   ],
   "source": [
    "required_fields_df.select(col(\"Origin\")).distinct().count()"
   ]
  },
  {
   "cell_type": "code",
   "execution_count": 30,
   "id": "798e17e0-685f-486c-9646-ad98b1d465f8",
   "metadata": {},
   "outputs": [
    {
     "name": "stderr",
     "output_type": "stream",
     "text": [
      "                                                                                \r"
     ]
    },
    {
     "data": {
      "text/plain": [
       "388"
      ]
     },
     "execution_count": 30,
     "metadata": {},
     "output_type": "execute_result"
    }
   ],
   "source": [
    "required_fields_df.select(col(\"Dest\")).distinct().count()"
   ]
  },
  {
   "cell_type": "code",
   "execution_count": 31,
   "id": "0a607e92-fad8-4b6d-a9ba-69305229e24f",
   "metadata": {},
   "outputs": [
    {
     "name": "stderr",
     "output_type": "stream",
     "text": [
      "                                                                                \r"
     ]
    },
    {
     "name": "stdout",
     "output_type": "stream",
     "text": [
      "+-----------------+------+----+----------+----------+--------+----------+----------+--------+-------------+------------+----------+--------------+-----------------+-----------------+\n",
      "|          Airline|Origin|Dest|FlightYear|FlightWeek|Distance|CRSDepTime|CRSArrTime|ArrDelay|Airline_index|Origin_index|Dest_index|Airline_onehot|    Origin_onehot|      Dest_onehot|\n",
      "+-----------------+------+----+----------+----------+--------+----------+----------+--------+-------------+------------+----------+--------------+-----------------+-----------------+\n",
      "|Endeavor Air Inc.|   ABY| ATL|      2018|         4|   145.0|      1202|      1304|    -8.0|          8.0|       275.0|       1.0|(28,[8],[1.0])|(388,[275],[1.0])|  (388,[1],[1.0])|\n",
      "|Endeavor Air Inc.|   ABY| ATL|      2018|         4|   145.0|      1202|      1304|    -6.0|          8.0|       275.0|       1.0|(28,[8],[1.0])|(388,[275],[1.0])|  (388,[1],[1.0])|\n",
      "|Endeavor Air Inc.|   ABY| ATL|      2018|         4|   145.0|      1202|      1304|    -2.0|          8.0|       275.0|       1.0|(28,[8],[1.0])|(388,[275],[1.0])|  (388,[1],[1.0])|\n",
      "|Endeavor Air Inc.|   ABY| ATL|      2018|         4|   145.0|      1202|      1304|   -11.0|          8.0|       275.0|       1.0|(28,[8],[1.0])|(388,[275],[1.0])|  (388,[1],[1.0])|\n",
      "|Endeavor Air Inc.|   ABY| ATL|      2018|         4|   145.0|      1400|      1500|    -1.0|          8.0|       275.0|       1.0|(28,[8],[1.0])|(388,[275],[1.0])|  (388,[1],[1.0])|\n",
      "|Endeavor Air Inc.|   ABY| ATL|      2018|         4|   145.0|      1202|      1304|    22.0|          8.0|       275.0|       1.0|(28,[8],[1.0])|(388,[275],[1.0])|  (388,[1],[1.0])|\n",
      "|Endeavor Air Inc.|   ABY| ATL|      2018|         5|   145.0|      1202|      1304|    -1.0|          8.0|       275.0|       1.0|(28,[8],[1.0])|(388,[275],[1.0])|  (388,[1],[1.0])|\n",
      "|Endeavor Air Inc.|   ABY| ATL|      2018|         5|   145.0|      1202|      1304|    -9.0|          8.0|       275.0|       1.0|(28,[8],[1.0])|(388,[275],[1.0])|  (388,[1],[1.0])|\n",
      "|Endeavor Air Inc.|   ABY| ATL|      2018|         5|   145.0|      1202|      1304|    NULL|          8.0|       275.0|       1.0|(28,[8],[1.0])|(388,[275],[1.0])|  (388,[1],[1.0])|\n",
      "|Endeavor Air Inc.|   ATL| ABY|      2018|         1|   145.0|      1037|      1137|    22.0|          8.0|         1.0|     274.0|(28,[8],[1.0])|  (388,[1],[1.0])|(388,[274],[1.0])|\n",
      "|Endeavor Air Inc.|   ATL| ABY|      2018|         1|   145.0|      1037|      1137|   -12.0|          8.0|         1.0|     274.0|(28,[8],[1.0])|  (388,[1],[1.0])|(388,[274],[1.0])|\n",
      "|Endeavor Air Inc.|   ATL| ABY|      2018|         1|   145.0|      1037|      1137|   -13.0|          8.0|         1.0|     274.0|(28,[8],[1.0])|  (388,[1],[1.0])|(388,[274],[1.0])|\n",
      "|Endeavor Air Inc.|   ATL| ABY|      2018|         1|   145.0|      1037|      1136|   -10.0|          8.0|         1.0|     274.0|(28,[8],[1.0])|  (388,[1],[1.0])|(388,[274],[1.0])|\n",
      "|Endeavor Air Inc.|   ATL| ABY|      2018|         1|   145.0|      1037|      1137|   -13.0|          8.0|         1.0|     274.0|(28,[8],[1.0])|  (388,[1],[1.0])|(388,[274],[1.0])|\n",
      "|Endeavor Air Inc.|   ATL| ABY|      2018|         2|   145.0|      1037|      1137|    16.0|          8.0|         1.0|     274.0|(28,[8],[1.0])|  (388,[1],[1.0])|(388,[274],[1.0])|\n",
      "|Endeavor Air Inc.|   ATL| ABY|      2018|         2|   145.0|      1037|      1137|   105.0|          8.0|         1.0|     274.0|(28,[8],[1.0])|  (388,[1],[1.0])|(388,[274],[1.0])|\n",
      "|Endeavor Air Inc.|   ATL| ABY|      2018|         2|   145.0|      1037|      1137|   -11.0|          8.0|         1.0|     274.0|(28,[8],[1.0])|  (388,[1],[1.0])|(388,[274],[1.0])|\n",
      "|Endeavor Air Inc.|   ATL| ABY|      2018|         2|   145.0|      1037|      1137|     8.0|          8.0|         1.0|     274.0|(28,[8],[1.0])|  (388,[1],[1.0])|(388,[274],[1.0])|\n",
      "|Endeavor Air Inc.|   ATL| ABY|      2018|         2|   145.0|      1037|      1137|     1.0|          8.0|         1.0|     274.0|(28,[8],[1.0])|  (388,[1],[1.0])|(388,[274],[1.0])|\n",
      "|Endeavor Air Inc.|   ATL| ABY|      2018|         2|   145.0|      1037|      1136|   -10.0|          8.0|         1.0|     274.0|(28,[8],[1.0])|  (388,[1],[1.0])|(388,[274],[1.0])|\n",
      "+-----------------+------+----+----------+----------+--------+----------+----------+--------+-------------+------------+----------+--------------+-----------------+-----------------+\n",
      "only showing top 20 rows\n",
      "\n"
     ]
    }
   ],
   "source": [
    "from pyspark.sql import SparkSession\n",
    "from pyspark.ml.feature import OneHotEncoder\n",
    "from pyspark.ml.feature import StringIndexer\n",
    "from pyspark.ml import Pipeline\n",
    "\n",
    "\n",
    "indexers = [StringIndexer(inputCol=column, outputCol=column+\"_index\", handleInvalid=\"keep\") for column in [\"Airline\", \"Origin\", \"Dest\"]]\n",
    "\n",
    "# Perform OneHotEncoding on the indexed columns\n",
    "encoders = [OneHotEncoder(inputCol=column+\"_index\", outputCol=column+\"_onehot\") for column in [\"Airline\", \"Origin\", \"Dest\"]]\n",
    "\n",
    "# Create a pipeline to execute the indexers and encoders sequentially\n",
    "pipeline = Pipeline(stages=indexers + encoders)\n",
    "\n",
    "# Fit the pipeline to the data and transform the DataFrame\n",
    "model = pipeline.fit(test)\n",
    "encoded_df = model.transform(test)\n",
    "\n",
    "# Show the encoded DataFrame\n",
    "encoded_df.show()\n"
   ]
  },
  {
   "cell_type": "code",
   "execution_count": 62,
   "id": "507e7b96-2f63-45db-bc58-4439c8ad29d5",
   "metadata": {},
   "outputs": [
    {
     "name": "stdout",
     "output_type": "stream",
     "text": [
      "+-----------------+\n",
      "|      Dest_onehot|\n",
      "+-----------------+\n",
      "|  (388,[1],[1.0])|\n",
      "|  (388,[1],[1.0])|\n",
      "|  (388,[1],[1.0])|\n",
      "|  (388,[1],[1.0])|\n",
      "|  (388,[1],[1.0])|\n",
      "|  (388,[1],[1.0])|\n",
      "|  (388,[1],[1.0])|\n",
      "|  (388,[1],[1.0])|\n",
      "|(388,[274],[1.0])|\n",
      "|(388,[274],[1.0])|\n",
      "|(388,[274],[1.0])|\n",
      "|(388,[274],[1.0])|\n",
      "|(388,[274],[1.0])|\n",
      "|(388,[274],[1.0])|\n",
      "|(388,[274],[1.0])|\n",
      "|(388,[274],[1.0])|\n",
      "|(388,[274],[1.0])|\n",
      "|(388,[274],[1.0])|\n",
      "|(388,[274],[1.0])|\n",
      "|(388,[274],[1.0])|\n",
      "+-----------------+\n",
      "only showing top 20 rows\n",
      "\n"
     ]
    }
   ],
   "source": [
    "encoded_df.select('Dest_onehot').show()"
   ]
  },
  {
   "cell_type": "code",
   "execution_count": 35,
   "id": "84c0330d-53e6-4cd8-89c1-632df57d3e03",
   "metadata": {},
   "outputs": [
    {
     "data": {
      "text/plain": [
       "<bound method DataFrame.printSchema of DataFrame[Airline: string, Origin: string, Dest: string, FlightYear: int, FlightWeek: int, Distance: double, CRSDepTime: int, CRSArrTime: int, ArrDelay: double, Airline_index: double, Origin_index: double, Dest_index: double, Airline_onehot: vector, Origin_onehot: vector, Dest_onehot: vector]>"
      ]
     },
     "execution_count": 35,
     "metadata": {},
     "output_type": "execute_result"
    }
   ],
   "source": [
    "encoded_df.printSchema"
   ]
  },
  {
   "cell_type": "code",
   "execution_count": 36,
   "id": "442f90ab-ed90-43b4-95c5-4f1d91178c55",
   "metadata": {},
   "outputs": [
    {
     "data": {
      "text/plain": [
       "['Airline',\n",
       " 'Origin',\n",
       " 'Dest',\n",
       " 'FlightYear',\n",
       " 'FlightWeek',\n",
       " 'Distance',\n",
       " 'CRSDepTime',\n",
       " 'CRSArrTime',\n",
       " 'ArrDelay',\n",
       " 'Airline_index',\n",
       " 'Origin_index',\n",
       " 'Dest_index',\n",
       " 'Airline_onehot',\n",
       " 'Origin_onehot',\n",
       " 'Dest_onehot']"
      ]
     },
     "execution_count": 36,
     "metadata": {},
     "output_type": "execute_result"
    }
   ],
   "source": [
    "encoded_df.columns"
   ]
  },
  {
   "cell_type": "code",
   "execution_count": 37,
   "id": "b13deed2-e700-456c-bb67-81c3439cdddc",
   "metadata": {},
   "outputs": [],
   "source": [
    "encoded_df = encoded_df.drop('Airline', 'Origin', 'Dest', \"FlightYear\", \"CRSDepTime\", \"CRSArrTime\")"
   ]
  },
  {
   "cell_type": "code",
   "execution_count": 38,
   "id": "bfe141d8-0aa0-46bc-80a1-d0a6301208e9",
   "metadata": {},
   "outputs": [],
   "source": [
    "# encoded_df.toPandas().head(10)"
   ]
  },
  {
   "cell_type": "code",
   "execution_count": null,
   "id": "3e3e6c02-59f2-4da0-97fc-4bb16f7dee76",
   "metadata": {},
   "outputs": [],
   "source": []
  },
  {
   "cell_type": "code",
   "execution_count": 39,
   "id": "b57f302a-8ea2-4ceb-9587-f0e1efdb9f7b",
   "metadata": {},
   "outputs": [
    {
     "data": {
      "text/plain": [
       "['FlightWeek',\n",
       " 'Distance',\n",
       " 'ArrDelay',\n",
       " 'Airline_index',\n",
       " 'Origin_index',\n",
       " 'Dest_index',\n",
       " 'Airline_onehot',\n",
       " 'Origin_onehot',\n",
       " 'Dest_onehot']"
      ]
     },
     "execution_count": 39,
     "metadata": {},
     "output_type": "execute_result"
    }
   ],
   "source": [
    "encoded_df.columns"
   ]
  },
  {
   "cell_type": "code",
   "execution_count": 40,
   "id": "92020959-951f-43f5-9037-19a423616a8c",
   "metadata": {},
   "outputs": [],
   "source": [
    "encoded_df = encoded_df.dropna()\n"
   ]
  },
  {
   "cell_type": "code",
   "execution_count": 41,
   "id": "1cac4003-c079-4ec3-ad0e-46827b0fb2d4",
   "metadata": {},
   "outputs": [
    {
     "name": "stdout",
     "output_type": "stream",
     "text": [
      "+----------+--------+--------+-------------+------------+----------+--------------+-----------------+-----------------+\n",
      "|FlightWeek|Distance|ArrDelay|Airline_index|Origin_index|Dest_index|Airline_onehot|    Origin_onehot|      Dest_onehot|\n",
      "+----------+--------+--------+-------------+------------+----------+--------------+-----------------+-----------------+\n",
      "|         4|   145.0|    -8.0|          8.0|       275.0|       1.0|(28,[8],[1.0])|(388,[275],[1.0])|  (388,[1],[1.0])|\n",
      "|         4|   145.0|    -6.0|          8.0|       275.0|       1.0|(28,[8],[1.0])|(388,[275],[1.0])|  (388,[1],[1.0])|\n",
      "|         4|   145.0|    -2.0|          8.0|       275.0|       1.0|(28,[8],[1.0])|(388,[275],[1.0])|  (388,[1],[1.0])|\n",
      "|         4|   145.0|   -11.0|          8.0|       275.0|       1.0|(28,[8],[1.0])|(388,[275],[1.0])|  (388,[1],[1.0])|\n",
      "|         4|   145.0|    -1.0|          8.0|       275.0|       1.0|(28,[8],[1.0])|(388,[275],[1.0])|  (388,[1],[1.0])|\n",
      "|         4|   145.0|    22.0|          8.0|       275.0|       1.0|(28,[8],[1.0])|(388,[275],[1.0])|  (388,[1],[1.0])|\n",
      "|         5|   145.0|    -1.0|          8.0|       275.0|       1.0|(28,[8],[1.0])|(388,[275],[1.0])|  (388,[1],[1.0])|\n",
      "|         5|   145.0|    -9.0|          8.0|       275.0|       1.0|(28,[8],[1.0])|(388,[275],[1.0])|  (388,[1],[1.0])|\n",
      "|         1|   145.0|    22.0|          8.0|         1.0|     274.0|(28,[8],[1.0])|  (388,[1],[1.0])|(388,[274],[1.0])|\n",
      "|         1|   145.0|   -12.0|          8.0|         1.0|     274.0|(28,[8],[1.0])|  (388,[1],[1.0])|(388,[274],[1.0])|\n",
      "|         1|   145.0|   -13.0|          8.0|         1.0|     274.0|(28,[8],[1.0])|  (388,[1],[1.0])|(388,[274],[1.0])|\n",
      "|         1|   145.0|   -10.0|          8.0|         1.0|     274.0|(28,[8],[1.0])|  (388,[1],[1.0])|(388,[274],[1.0])|\n",
      "|         1|   145.0|   -13.0|          8.0|         1.0|     274.0|(28,[8],[1.0])|  (388,[1],[1.0])|(388,[274],[1.0])|\n",
      "|         2|   145.0|    16.0|          8.0|         1.0|     274.0|(28,[8],[1.0])|  (388,[1],[1.0])|(388,[274],[1.0])|\n",
      "|         2|   145.0|   105.0|          8.0|         1.0|     274.0|(28,[8],[1.0])|  (388,[1],[1.0])|(388,[274],[1.0])|\n",
      "|         2|   145.0|   -11.0|          8.0|         1.0|     274.0|(28,[8],[1.0])|  (388,[1],[1.0])|(388,[274],[1.0])|\n",
      "|         2|   145.0|     8.0|          8.0|         1.0|     274.0|(28,[8],[1.0])|  (388,[1],[1.0])|(388,[274],[1.0])|\n",
      "|         2|   145.0|     1.0|          8.0|         1.0|     274.0|(28,[8],[1.0])|  (388,[1],[1.0])|(388,[274],[1.0])|\n",
      "|         2|   145.0|   -10.0|          8.0|         1.0|     274.0|(28,[8],[1.0])|  (388,[1],[1.0])|(388,[274],[1.0])|\n",
      "|         2|   145.0|   -17.0|          8.0|         1.0|     274.0|(28,[8],[1.0])|  (388,[1],[1.0])|(388,[274],[1.0])|\n",
      "+----------+--------+--------+-------------+------------+----------+--------------+-----------------+-----------------+\n",
      "only showing top 20 rows\n",
      "\n"
     ]
    }
   ],
   "source": [
    "encoded_df.show()"
   ]
  },
  {
   "cell_type": "code",
   "execution_count": 42,
   "id": "2576ba9a-90da-478d-bef2-5067093363e3",
   "metadata": {},
   "outputs": [
    {
     "data": {
      "text/plain": [
       "DataFrame[FlightWeek: int, Distance: double, ArrDelay: double, Airline_index: double, Origin_index: double, Dest_index: double, Airline_onehot: vector, Origin_onehot: vector, Dest_onehot: vector]"
      ]
     },
     "execution_count": 42,
     "metadata": {},
     "output_type": "execute_result"
    }
   ],
   "source": [
    "encoded_df.repartition(125, \"Airline\")"
   ]
  },
  {
   "cell_type": "code",
   "execution_count": 43,
   "id": "3b41a8ce-7f3c-45ad-8265-7d985c07db0d",
   "metadata": {},
   "outputs": [
    {
     "name": "stderr",
     "output_type": "stream",
     "text": [
      "                                                                                \r"
     ]
    },
    {
     "data": {
      "text/plain": [
       "28347599"
      ]
     },
     "execution_count": 43,
     "metadata": {},
     "output_type": "execute_result"
    }
   ],
   "source": [
    "encoded_df.count()"
   ]
  },
  {
   "cell_type": "code",
   "execution_count": 44,
   "id": "28e62576-8508-4fdb-95f8-b596d3888df8",
   "metadata": {},
   "outputs": [
    {
     "name": "stderr",
     "output_type": "stream",
     "text": [
      "[Stage 110:==================================================>      (8 + 1) / 9]\r"
     ]
    },
    {
     "name": "stdout",
     "output_type": "stream",
     "text": [
      "Root Mean Squared Error (RMSE) on test data = 74.5586\n"
     ]
    },
    {
     "name": "stderr",
     "output_type": "stream",
     "text": [
      "                                                                                \r"
     ]
    }
   ],
   "source": [
    "from pyspark.ml.feature import VectorAssembler\n",
    "from pyspark.ml.regression import RandomForestRegressor\n",
    "from pyspark.ml.evaluation import RegressionEvaluator\n",
    "\n",
    "\n",
    "# Combine features into a single vector column\n",
    "assembler = VectorAssembler(inputCols=[\"FlightWeek\", \"Distance\", \"Airline_onehot\",\t\"Origin_onehot\",\t\"Dest_onehot\"],\n",
    "                            outputCol=\"features\")\n",
    "output = assembler.transform(encoded_df)\n",
    "\n",
    "\n",
    "\n",
    "total_count = output.count()\n",
    "train_count = int(total_count * 0.7)\n",
    "\n",
    "train_data = output.limit(train_count)\n",
    "test_data = output.subtract(train_data)\n",
    "\n",
    "\n",
    "# Create a RandomForestRegressor\n",
    "rf = RandomForestRegressor(featuresCol=\"features\", labelCol=\"ArrDelay\", numTrees=10)\n",
    "\n",
    "# Train the model\n",
    "model = rf.fit(train_data)\n",
    "\n",
    "# Make predictions\n",
    "predictions = model.transform(test_data)\n",
    "\n",
    "# Evaluate the model\n",
    "evaluator = RegressionEvaluator(labelCol=\"ArrDelay\", predictionCol=\"prediction\", metricName=\"rmse\")\n",
    "rmse = evaluator.evaluate(predictions)\n",
    "print(\"Root Mean Squared Error (RMSE) on test data = %g\" % rmse)\n",
    "\n"
   ]
  },
  {
   "cell_type": "code",
   "execution_count": 45,
   "id": "8d3c9ce5-20b8-48cf-858e-346f37e68de6",
   "metadata": {},
   "outputs": [
    {
     "name": "stderr",
     "output_type": "stream",
     "text": [
      "[Stage 124:===============================>                         (5 + 4) / 9]\r"
     ]
    },
    {
     "name": "stdout",
     "output_type": "stream",
     "text": [
      "Root Mean Squared Error (RMSE) on test data = 74.5586\n",
      "Mean Absolute Error (MAE) on test data = 34.3483\n"
     ]
    },
    {
     "name": "stderr",
     "output_type": "stream",
     "text": [
      "                                                                                \r"
     ]
    }
   ],
   "source": [
    "from pyspark.sql.functions import abs\n",
    "\n",
    "# Calculate Mean Absolute Error (MAE)\n",
    "mae = predictions.select(abs(predictions[\"ArrDelay\"] - predictions[\"prediction\"]).alias(\"error\")).agg({\"error\": \"mean\"}).collect()[0][0]\n",
    "\n",
    "print(\"Root Mean Squared Error (RMSE) on test data = %g\" % rmse)\n",
    "print(\"Mean Absolute Error (MAE) on test data = %g\" % mae)\n"
   ]
  },
  {
   "cell_type": "code",
   "execution_count": 46,
   "id": "e8b32fe4-ccea-4740-8ab9-130d210b968b",
   "metadata": {},
   "outputs": [
    {
     "name": "stderr",
     "output_type": "stream",
     "text": [
      "24/04/25 15:31:38 WARN Instrumentation: [abd8c62a] regParam is zero, which might cause numerical instability and overfitting.\n",
      "24/04/25 15:31:46 WARN InstanceBuilder: Failed to load implementation from:dev.ludovic.netlib.blas.JNIBLAS\n",
      "24/04/25 15:31:46 WARN InstanceBuilder: Failed to load implementation from:dev.ludovic.netlib.blas.VectorBLAS\n",
      "24/04/25 15:31:46 WARN InstanceBuilder: Failed to load implementation from:dev.ludovic.netlib.lapack.JNILAPACK\n",
      "24/04/25 15:31:46 WARN Instrumentation: [abd8c62a] Cholesky solver failed due to singular covariance matrix. Retrying with Quasi-Newton solver.\n",
      "[Stage 153:===============================>                         (5 + 4) / 9]\r"
     ]
    },
    {
     "name": "stdout",
     "output_type": "stream",
     "text": [
      "Root Mean Squared Error (RMSE) on test data = 74.5118\n"
     ]
    },
    {
     "name": "stderr",
     "output_type": "stream",
     "text": [
      "                                                                                \r"
     ]
    }
   ],
   "source": [
    "from pyspark.ml.feature import VectorAssembler\n",
    "from pyspark.ml.regression import LinearRegression\n",
    "from pyspark.sql.functions import abs\n",
    "from pyspark.ml.evaluation import RegressionEvaluator\n",
    "\n",
    "# Combine features into a single vector column\n",
    "assembler = VectorAssembler(inputCols=[\"FlightWeek\", \"Distance\", \"Airline_onehot\", \"Origin_onehot\", \"Dest_onehot\"],\n",
    "                            outputCol=\"features\")\n",
    "output = assembler.transform(encoded_df)\n",
    "\n",
    "# Split the data into training and test sets\n",
    "total_count = output.count()\n",
    "train_count = int(total_count * 0.7)\n",
    "\n",
    "train_data = output.limit(train_count)\n",
    "test_data = output.subtract(train_data)\n",
    "\n",
    "\n",
    "# Create a LinearRegression model\n",
    "lr = LinearRegression(featuresCol=\"features\", labelCol=\"ArrDelay\")\n",
    "\n",
    "# Fit the model\n",
    "lr_model = lr.fit(train_data)\n",
    "\n",
    "# Make predictions\n",
    "predictions = lr_model.transform(test_data)\n",
    "\n",
    "# Evaluate the model\n",
    "evaluator = RegressionEvaluator(labelCol=\"ArrDelay\", predictionCol=\"prediction\", metricName=\"rmse\")\n",
    "rmse = evaluator.evaluate(predictions)\n",
    "print(\"Root Mean Squared Error (RMSE) on test data = %g\" % rmse)\n"
   ]
  },
  {
   "cell_type": "code",
   "execution_count": 47,
   "id": "217cc754-1caa-4e86-95d2-93f7bf574f94",
   "metadata": {},
   "outputs": [
    {
     "name": "stderr",
     "output_type": "stream",
     "text": [
      "[Stage 167:>                                                        (0 + 8) / 9]\r"
     ]
    },
    {
     "name": "stdout",
     "output_type": "stream",
     "text": [
      "Root Mean Squared Error (RMSE) on test data = 74.5118\n",
      "Mean Absolute Error (MAE) on test data = 34.3847\n"
     ]
    },
    {
     "name": "stderr",
     "output_type": "stream",
     "text": [
      "                                                                                \r"
     ]
    }
   ],
   "source": [
    "from pyspark.sql.functions import abs\n",
    "\n",
    "# Calculate Mean Absolute Error (MAE)\n",
    "mae = predictions.select(abs(predictions[\"ArrDelay\"] - predictions[\"prediction\"]).alias(\"error\")).agg({\"error\": \"mean\"}).collect()[0][0]\n",
    "\n",
    "print(\"Root Mean Squared Error (RMSE) on test data = %g\" % rmse)\n",
    "print(\"Mean Absolute Error (MAE) on test data = %g\" % mae)\n"
   ]
  },
  {
   "cell_type": "code",
   "execution_count": 46,
   "id": "3e274255-1fff-41bd-b2a5-15a4131f79d7",
   "metadata": {},
   "outputs": [],
   "source": [
    "output_df = non_negative_delays[['ArrDelay']]"
   ]
  },
  {
   "cell_type": "code",
   "execution_count": 47,
   "id": "9f5d82e3-8dc1-4026-b050-122b92cd6d67",
   "metadata": {},
   "outputs": [],
   "source": [
    "additional_output_df = non_negative_delays[['Cancelled', 'Diverted']]"
   ]
  },
  {
   "cell_type": "code",
   "execution_count": null,
   "id": "6c739765-e7cd-494b-97d6-eda16fd8df5d",
   "metadata": {},
   "outputs": [],
   "source": []
  },
  {
   "cell_type": "code",
   "execution_count": 48,
   "id": "d112f7eb-3a1f-4b20-8334-14356e3451cd",
   "metadata": {},
   "outputs": [],
   "source": [
    "# from pyspark.ml.feature import VectorAssembler, StandardScaler\n",
    "# from pyspark.ml.feature import PCA\n",
    "\n",
    "# # Assemble feature vectors\n",
    "# assembler = VectorAssembler(inputCols=[\"feature1\", \"feature2\", \"feature3\"], outputCol=\"features\")\n",
    "# df = assembler.transform(df)\n",
    "\n",
    "# # Standardize features\n",
    "# scaler = StandardScaler(inputCol=\"features\", outputCol=\"scaled_features\", withMean=True, withStd=True)\n",
    "# scaler_model = scaler.fit(df)\n",
    "# df = scaler_model.transform(df)\n",
    "\n",
    "# # Fit PCA model\n",
    "# pca = PCA(k=2, inputCol=\"scaled_features\", outputCol=\"pca_features\")\n",
    "# model = pca.fit(df)\n",
    "\n",
    "# # Transform data\n",
    "# df_pca = model.transform(df)\n",
    "\n",
    "# # Show PCA features\n",
    "# df_pca.select(\"pca_features\").show(truncate=False)"
   ]
  },
  {
   "cell_type": "code",
   "execution_count": 49,
   "id": "aa9660cc-d4a1-4d93-8e59-60402ad0529d",
   "metadata": {},
   "outputs": [
    {
     "data": {
      "text/plain": [
       "'/Users/shreyasmac/Documents/Notes/Big Data/Final Project'"
      ]
     },
     "execution_count": 49,
     "metadata": {},
     "output_type": "execute_result"
    }
   ],
   "source": [
    "pwd"
   ]
  },
  {
   "cell_type": "code",
   "execution_count": null,
   "id": "c4e9ff93-63ed-4e84-824e-3ef873bc3786",
   "metadata": {},
   "outputs": [],
   "source": []
  },
  {
   "cell_type": "code",
   "execution_count": null,
   "id": "efed1218-116f-4d00-95ad-dde7764ae35b",
   "metadata": {},
   "outputs": [],
   "source": []
  }
 ],
 "metadata": {
  "kernelspec": {
   "display_name": "Python 3 (ipykernel)",
   "language": "python",
   "name": "python3"
  },
  "language_info": {
   "codemirror_mode": {
    "name": "ipython",
    "version": 3
   },
   "file_extension": ".py",
   "mimetype": "text/x-python",
   "name": "python",
   "nbconvert_exporter": "python",
   "pygments_lexer": "ipython3",
   "version": "3.11.7"
  }
 },
 "nbformat": 4,
 "nbformat_minor": 5
}
